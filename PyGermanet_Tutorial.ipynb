{
  "cells": [
    {
      "cell_type": "markdown",
      "source": "# PyGermanet Tutorial\n\nThe following tutorial shows some examples of how to use the Python API for Germanet. Germanet is a lexical-sematic \nnet that relates German nouns, verbs and adjectives semantically by grouping lexical units that express\nthe same concept into synsets. \n\nWith the Python API we can extract synsets and lexical units for a given word and inspect different properties and related\nsynsets / lexunits. \n",
      "metadata": {
        "pycharm": {
          "metadata": false,
          "name": "#%% md\n"
        }
      }
    },
    {
      "cell_type": "code",
      "execution_count": 1,
      "outputs": [
        {
          "name": "stderr",
          "text": [
            "  0%|                                                                         |\r",
            "  1%|#                                                                        |\r",
            "  2%|##                                                                       |\r",
            "  4%|###                                                                      |\r",
            "  5%|####                                                                     |\r",
            "  7%|#####                                                                    |\r",
            "  8%|######                                                                   |\r",
            " 10%|#######                                                                  |\r",
            " 11%|########                                                                 |\r",
            " 12%|#########                                                                |\r",
            " 14%|##########                                                               |\r",
            " 15%|###########                                                              |\r",
            " 17%|############                                                             |\r",
            " 18%|#############                                                            |\r",
            " 20%|##############                                                           |\r",
            " 21%|###############                                                          |\r",
            " 22%|################                                                         |\r",
            " 24%|#################                                                        |\r",
            " 25%|##################                                                       |\r",
            " 27%|###################                                                      |\r",
            " 28%|####################                                                     |\r",
            " 30%|#####################                                                    |\r",
            " 31%|######################                                                   |\r",
            " 32%|#######################                                                  |\r",
            " 34%|#########################                                                |\r",
            " 35%|##########################                                               |\r",
            " 37%|###########################                                              |\r",
            " 38%|############################                                             |\r",
            " 40%|#############################                                            |\r",
            " 41%|##############################                                           |\r",
            " 42%|###############################                                          |\r",
            " 44%|################################                                         |\r",
            " 45%|#################################                                        |\r",
            " 47%|##################################                                       |\r",
            " 48%|###################################                                      |\r",
            " 50%|####################################                                     |\r",
            " 51%|#####################################                                    |\r",
            " 52%|######################################                                   |\r",
            " 54%|#######################################                                  |\r",
            " 55%|########################################                                 |\r",
            " 57%|#########################################                                |\r",
            " 58%|##########################################                               |\r",
            " 60%|###########################################                              |\r",
            " 61%|############################################                             |\r",
            " 62%|#############################################                            |\r",
            " 64%|##############################################                           |\r",
            " 65%|###############################################                          |\r",
            " 67%|#################################################                        |\r",
            " 68%|##################################################                       |\r",
            " 70%|###################################################                      |\r",
            " 71%|####################################################                     |\r",
            " 72%|#####################################################                    |\r",
            " 74%|######################################################                   |\r",
            " 75%|#######################################################                  |\r",
            " 77%|########################################################                 |\r",
            "100%|#########################################################################|\r",
            "\n"
          ],
          "output_type": "stream"
        },
        {
          "name": "stdout",
          "text": [
            "is_container_for l9703 l58497\n"
          ],
          "output_type": "stream"
        }
      ],
      "source": "from germanet import Germanet\nimport frames\nfrom filterconfig import Filterconfig\nfrom synset import WordCategory, WordClass\ngermanet \u003d Germanet(\"data\")",
      "metadata": {
        "pycharm": {
          "metadata": false,
          "name": "#%%\n",
          "is_executing": false
        }
      }
    },
    {
      "cell_type": "markdown",
      "source": "## How to inspect information for a single word input\n\n### Inspect synsets\n\nLet\u0027s consider the input word *Fußball* \u0027football\u0027. The following shows how to extract all synsets given an input wordform.\nMany words are ambiguous and thus, *Fußball* belongs to two synsets. The string representations includes the lexical units, which can be helpful when you want to select\na specific meaning for a given word. In this case, let\u0027s say we are interested in the second meaning of\n*Fußball*, namely the game and not the ball.\n",
      "metadata": {
        "pycharm": {
          "metadata": false,
          "name": "#%% md\n"
        }
      }
    },
    {
      "cell_type": "code",
      "execution_count": 47,
      "outputs": [
        {
          "name": "stdout",
          "text": [
            "The input has 2 senses \nSynset(id\u003ds21624, lexunits\u003dFußballspiel, Fußball, Fußballsport)\nSynset(id\u003ds7944, lexunits\u003dFußball)\n"
          ],
          "output_type": "stream"
        }
      ],
      "source": "fussball_synsets \u003d germanet.get_synsets_by_orthform(\"Fußball\")\n# the lengths of the retrieved list is equal to the number of possible senses for a word, in this case 2\nprint(\"The input has %d senses \" % len(fussball_synsets))\nfor synset in fussball_synsets:\n    print(synset)\nfussball_synset \u003d germanet.get_synset_by_id(\u0027s21624\u0027)\n",
      "metadata": {
        "pycharm": {
          "metadata": false,
          "name": "#%% \n",
          "is_executing": false
        }
      }
    },
    {
      "cell_type": "markdown",
      "source": "Every synset has a number of properties that can be extracted. Each synset has a unique id, which is the character\n\u0027s\u0027 followed by a number. A synset can have one of three possible word categories (verb, noun, adjective). \nFor each of the word categories the semantic space is divided into a number of semantic fields. (e.g *Besitz*,\n*Kommunikation*, *Geschehen*...). \n",
      "metadata": {
        "pycharm": {
          "metadata": false,
          "name": "#%% md\n"
        }
      }
    },
    {
      "cell_type": "code",
      "execution_count": 48,
      "outputs": [
        {
          "name": "stdout",
          "text": [
            "The synset id is s21624; the synset belongs to the word category WordCategory.nomen \n and to the semantic field WordClass.Geschehen.\n"
          ],
          "output_type": "stream"
        }
      ],
      "source": "id \u003d fussball_synset.id\nword_category \u003d fussball_synset.word_category\nsemantic_field \u003d fussball_synset.word_class\nprint(\"The synset id is %s; the synset belongs to the word category %s \\n and to the semantic field %s.\" %\n      (id, word_category, semantic_field))\n",
      "metadata": {
        "pycharm": {
          "metadata": false,
          "name": "#%%\n",
          "is_executing": false
        }
      }
    },
    {
      "cell_type": "markdown",
      "source": "Synsets are related to other synsets via conceptual relations. The most important relation is the hypernymy\n/ hyponymy relation. Direct hypernyms of a synset (one level above) and hyponyms (one level below) can be accessed through a separate field, all conceptually related \nsynsets are stored in the relations field.\n",
      "metadata": {
        "pycharm": {
          "metadata": false,
          "name": "#%% md\n"
        }
      }
    },
    {
      "cell_type": "code",
      "execution_count": 49,
      "outputs": [
        {
          "name": "stdout",
          "text": [
            "{Synset(id\u003ds21606, lexunits\u003dBallsportart, Ballspiel, Ballsport)}\n{Synset(id\u003ds137475, lexunits\u003dKlubfußball), Synset(id\u003ds139802, lexunits\u003dTorwandschießen), Synset(id\u003ds21625, lexunits\u003dProfifußball), Synset(id\u003ds21626, lexunits\u003dFrauenfußball, Damenfußball), Synset(id\u003ds133731, lexunits\u003dWeltfußball), Synset(id\u003ds62081, lexunits\u003dVereinsfußball), Synset(id\u003ds79925, lexunits\u003dHallenfußball), Synset(id\u003ds124051, lexunits\u003dFreizeitfußball), Synset(id\u003ds69685, lexunits\u003dAmateurfußball), Synset(id\u003ds133871, lexunits\u003dMädchenfußball), Synset(id\u003ds137940, lexunits\u003dBerufsfußball), Synset(id\u003ds84590, lexunits\u003dMännerfußball), Synset(id\u003ds104374, lexunits\u003dSpitzenfußball), Synset(id\u003ds71210, lexunits\u003dJugendfußball)}\n\nrelation : ConRel.has_hypernym\n{Synset(id\u003ds21606, lexunits\u003dBallsportart, Ballspiel, Ballsport)}\n\nrelation : ConRel.has_hyponym\n{Synset(id\u003ds137475, lexunits\u003dKlubfußball), Synset(id\u003ds139802, lexunits\u003dTorwandschießen), Synset(id\u003ds21625, lexunits\u003dProfifußball), Synset(id\u003ds21626, lexunits\u003dFrauenfußball, Damenfußball), Synset(id\u003ds133731, lexunits\u003dWeltfußball), Synset(id\u003ds62081, lexunits\u003dVereinsfußball), Synset(id\u003ds79925, lexunits\u003dHallenfußball), Synset(id\u003ds124051, lexunits\u003dFreizeitfußball), Synset(id\u003ds69685, lexunits\u003dAmateurfußball), Synset(id\u003ds133871, lexunits\u003dMädchenfußball), Synset(id\u003ds137940, lexunits\u003dBerufsfußball), Synset(id\u003ds84590, lexunits\u003dMännerfußball), Synset(id\u003ds104374, lexunits\u003dSpitzenfußball), Synset(id\u003ds71210, lexunits\u003dJugendfußball)}\n\nrelation : ConRel.is_related_to\n{Synset(id\u003ds20943, lexunits\u003dHandspiel), Synset(id\u003ds17566, lexunits\u003dAbseits, Abseitsposition, Abseitsstellung), Synset(id\u003ds18513, lexunits\u003dLänderspieleinsatz), Synset(id\u003ds10313, lexunits\u003dTor), Synset(id\u003ds15474, lexunits\u003dAblöse), Synset(id\u003ds100331, lexunits\u003dFußballpokal), Synset(id\u003ds75887, lexunits\u003dSchwalbe)}\n\nrelation : ConRel.has_component_meronym\n{Synset(id\u003ds17560, lexunits\u003dElfmeter, Elfer, Elfmeterschießen), Synset(id\u003ds17549, lexunits\u003dKick-off, Anstoß), Synset(id\u003ds17565, lexunits\u003dFreistoß)}\n"
          ],
          "output_type": "stream"
        }
      ],
      "source": "print(fussball_synset.direct_hypernyms)\nprint(fussball_synset.direct_hyponyms)\nfor relation, synsets in fussball_synset.relations.items():\n    print(\"\\nrelation : %s\" % relation)\n    print(synsets)\n    ",
      "metadata": {
        "pycharm": {
          "metadata": false,
          "name": "#%%\n",
          "is_executing": false
        }
      }
    },
    {
      "cell_type": "markdown",
      "source": "We can see that *Fußball* has exactly one hypernym and several hyponyms. It is also possible to list all hypernyms\nfrom *Fußball* to the top node (root node). The level where the *Fußball* synset is attached to the Graph is called depth and\ncan also be accessed. We can also check whether *Fußball* is the root or a leaf of the GermaNet graph (although of course\nwe already know that this is not case, as it has both, hypernyms and hyponyms.\n",
      "metadata": {
        "pycharm": {
          "metadata": false,
          "name": "#%% md\n"
        }
      }
    },
    {
      "cell_type": "code",
      "execution_count": 50,
      "outputs": [
        {
          "name": "stdout",
          "text": [
            "{Synset(id\u003ds18413, lexunits\u003dHandlung, Tat, Aktivität, Tätigkeit), Synset(id\u003ds20870, lexunits\u003dAuseinandersetzung, Konflikt), Synset(id\u003ds73180, lexunits\u003dKampf, Wettkampf), Synset(id\u003ds16557, lexunits\u003dGeschehnis, Geschehen), Synset(id\u003ds17614, lexunits\u003dVeranstaltung), Synset(id\u003ds18275, lexunits\u003dSportwettkampf), Synset(id\u003ds47458, lexunits\u003dqualitative Beziehung), Synset(id\u003ds18227, lexunits\u003dSportveranstaltung, Sportereignis), Synset(id\u003ds46926, lexunits\u003dBeziehung, Verhältnis, Relation), Synset(id\u003ds13222, lexunits\u003dZustand), Synset(id\u003ds51001, lexunits\u003dGNROOT), Synset(id\u003ds18348, lexunits\u003dSpiel, Match, Partie, Sportspiel), Synset(id\u003ds21606, lexunits\u003dBallsportart, Ballspiel, Ballsport), Synset(id\u003ds16438, lexunits\u003dEreignis), Synset(id\u003ds21440, lexunits\u003dSport, Sportart, Disziplin, Sportdisziplin), Synset(id\u003ds16437, lexunits\u003dSituation)}\nThe synset has a depth of 8 \n is it the root node? False  \n is it a leaf node? False\n"
          ],
          "output_type": "stream"
        }
      ],
      "source": "print(fussball_synset.all_hypernyms())\nprint(\"The synset has a depth of %d \\n is it the root node? %s  \\n is it a leaf node? %s\"\n      % (fussball_synset.min_depth(), str(fussball_synset.is_root()), str(fussball_synset.is_leaf()) ))",
      "metadata": {
        "pycharm": {
          "metadata": false,
          "name": "#%%\n",
          "is_executing": false
        }
      }
    },
    {
      "cell_type": "markdown",
      "source": "You can also use the API to compare a synset with another synset. These methods work only for two synsets that have the \nsame word category, for example for two nouns. Let\u0027s say you would like to know how *Fußball* and *Tennis* are related within \nGermaNet. You first need to extract the synset for *Tennis*. Then you can check whether *Tennis* and *Fußball* share any \nhypernyms and print them. Finally you can extract the shortest path between Fußball and Tennis, i.e. the minimal number of \nnodes you have to walk from *Fußball* to end up at the synset of *Tennis*. You can also extract the distance between *Fußball* and \n*Tennis* (in this case the path length). Synsets that are more similar will have a shorter distance than unrelated synsets.\n",
      "metadata": {
        "pycharm": {
          "metadata": false,
          "name": "#%% md\n"
        }
      }
    },
    {
      "cell_type": "code",
      "execution_count": 51,
      "outputs": [
        {
          "name": "stdout",
          "text": [
            "[Synset(id\u003ds21613, lexunits\u003dTennissport, Tennis, Tennisspiel)]\n{Synset(id\u003ds18413, lexunits\u003dHandlung, Tat, Aktivität, Tätigkeit), Synset(id\u003ds73180, lexunits\u003dKampf, Wettkampf), Synset(id\u003ds16557, lexunits\u003dGeschehnis, Geschehen), Synset(id\u003ds17614, lexunits\u003dVeranstaltung), Synset(id\u003ds47458, lexunits\u003dqualitative Beziehung), Synset(id\u003ds18275, lexunits\u003dSportwettkampf), Synset(id\u003ds16438, lexunits\u003dEreignis), Synset(id\u003ds18227, lexunits\u003dSportveranstaltung, Sportereignis), Synset(id\u003ds46926, lexunits\u003dBeziehung, Verhältnis, Relation), Synset(id\u003ds51001, lexunits\u003dGNROOT), Synset(id\u003ds21606, lexunits\u003dBallsportart, Ballspiel, Ballsport), Synset(id\u003ds13222, lexunits\u003dZustand), Synset(id\u003ds18348, lexunits\u003dSpiel, Match, Partie, Sportspiel), Synset(id\u003ds20870, lexunits\u003dAuseinandersetzung, Konflikt), Synset(id\u003ds21440, lexunits\u003dSport, Sportart, Disziplin, Sportdisziplin), Synset(id\u003ds16437, lexunits\u003dSituation)}\n[[Synset(id\u003ds21624, lexunits\u003dFußballspiel, Fußball, Fußballsport), Synset(id\u003ds21606, lexunits\u003dBallsportart, Ballspiel, Ballsport), Synset(id\u003ds21613, lexunits\u003dTennissport, Tennis, Tennisspiel)]]\nFußball and Tennis have a path distance of 2\n"
          ],
          "output_type": "stream"
        }
      ],
      "source": "tennis_synsets \u003d germanet.get_synsets_by_orthform(\"Tennis\")\nprint(tennis_synsets)\ntennis_synset \u003d tennis_synsets[0]\nprint(fussball_synset.common_hypernyms(tennis_synset))\nprint(fussball_synset.shortest_path(tennis_synset))\nprint(\"Fußball and Tennis have a path distance of %d\" % fussball_synset.shortest_path_distance(tennis_synset))\n",
      "metadata": {
        "pycharm": {
          "metadata": false,
          "name": "#%%\n",
          "is_executing": false
        }
      }
    },
    {
      "cell_type": "markdown",
      "source": "### Inspect Lexical Units\nEvery synset contains one ore several Lexical Units. They are always printed when you acess the String representation of\na synset. The list of Lexical Units (lexunit) can be accessed for any synset. Let\u0027s inspect the lexical units for Fußball:\nWe have the lexunit *Fußballspiel*, the lexunit *Fußball* and the lexunit *Fußballsport*.",
      "metadata": {
        "pycharm": {
          "metadata": false,
          "name": "#%% md\n"
        }
      }
    },
    {
      "cell_type": "code",
      "execution_count": 7,
      "outputs": [
        {
          "name": "stdout",
          "text": [
            "[Lexunit(id\u003dl11339, orthform\u003dFußball, synset_id\u003ds7944)]\n"
          ],
          "output_type": "stream"
        }
      ],
      "source": "lexical_units_fussball \u003d fussball_synset.lexunits\nprint(lexical_units_fussball)\n",
      "metadata": {
        "pycharm": {
          "metadata": false,
          "name": "#%%\n",
          "is_executing": false
        }
      }
    },
    {
      "cell_type": "markdown",
      "source": "Every lexical unit has a number of orthographical forms. There are four different orthographical forms but not every \nlexical unit has an entry for all of them:\n* main orth. form: \n* orth. variantion\n* old orth. form\n* old orht. variation\n\nWe can see that the lexunit for *Fußball* only has one orth form, but that one of its related synsets *Fußballklub* has the \northographical variation *Fußballkclub*.",
      "metadata": {
        "pycharm": {
          "metadata": false,
          "name": "#%% md\n"
        }
      }
    },
    {
      "cell_type": "code",
      "execution_count": 8,
      "outputs": [
        {
          "name": "stdout",
          "text": [
            "{\u0027Fußball\u0027}\n{\u0027Fußballklub\u0027, \u0027Fußballclub\u0027}\nFußballclub\n"
          ],
          "output_type": "stream"
        }
      ],
      "source": "fussball_unit \u003d germanet.get_lexunit_by_id(\"l29777\")\north_forms \u003d fussball_unit.get_all_orthforms()\nprint(orth_forms)\nfussballclub_unit \u003d germanet.get_lexunit_by_id(\"l32423\")\north_forms \u003d fussballclub_unit.get_all_orthforms()\nprint(orth_forms)\nprint(fussballclub_unit.orthvar)",
      "metadata": {
        "pycharm": {
          "metadata": false,
          "name": "#%%\n",
          "is_executing": false
        }
      }
    },
    {
      "cell_type": "markdown",
      "source": "*Fußball* is a compound, which are very frequent in the German language. GermaNet stores information about the \ncompound, for example that *Fuß* is the modifier and *ball* is the head.\n",
      "metadata": {
        "pycharm": {
          "metadata": false,
          "name": "#%% md\n"
        }
      }
    },
    {
      "cell_type": "code",
      "execution_count": 52,
      "outputs": [
        {
          "name": "stdout",
          "text": [
            "CompoundInfo( modifier \u003d Fuß, head \u003d Ball)\n"
          ],
          "output_type": "stream"
        }
      ],
      "source": "print(fussball_unit.compound_info)\n",
      "metadata": {
        "pycharm": {
          "metadata": false,
          "name": "#%%\n",
          "is_executing": false
        }
      }
    },
    {
      "cell_type": "markdown",
      "source": "Lexical units are related to other lexical units by different lexical relations. The most common and most general \nlexical relation is synonymy, but there are other relations annotated as well. For example, for some compounds there has been work\non annotating the relation between the compound and the modifier. In this example the compound *Fußball* has the manner \nfunctioning of *Fuß*. The relations can be unidirectional (e.g. the relation \"has manner of functioning\" goes from *Fußball*\nto *Fuß*, but not the other way around. The relation can also be bidirectional, e.g. *Fußball* and *Fußballspiel* are \nsynonyms of each other. If you are interested in finding out which unidirectional relations point towards *Fußball*, these\ncan be accessed via \"incoming_relations\":\n",
      "metadata": {
        "pycharm": {
          "metadata": false,
          "name": "#%% md\n"
        }
      }
    },
    {
      "cell_type": "code",
      "execution_count": 53,
      "outputs": [
        {
          "name": "stdout",
          "text": [
            "defaultdict(\u003cclass \u0027set\u0027\u003e, {\u003cLexRel.has_synonym: \u0027has_synonym\u0027\u003e: {Lexunit(id\u003dl29778, orthform\u003dFußballsport, synset_id\u003ds21624), Lexunit(id\u003dl29776, orthform\u003dFußballspiel, synset_id\u003ds21624)}, \u003cLexRel.has_manner_of_functioning: \u0027has_manner_of_functioning\u0027\u003e: {Lexunit(id\u003dl35740, orthform\u003dFuß, synset_id\u003ds26149)}})\ndefaultdict(\u003cclass \u0027set\u0027\u003e, {\u003cLexRel.has_pertainym: \u0027has_pertainym\u0027\u003e: {Lexunit(id\u003dl4226, orthform\u003dfußballerisch, synset_id\u003ds2869)}, \u003cLexRel.has_specialization: \u0027has_specialization\u0027\u003e: {Lexunit(id\u003dl53360, orthform\u003dFußballamateur, synset_id\u003ds37146)}, \u003cLexRel.has_active_usage: \u0027has_active_usage\u0027\u003e: {Lexunit(id\u003dl10294, orthform\u003dFußballschuh, synset_id\u003ds7143), Lexunit(id\u003dl13796, orthform\u003dFußballstadion, synset_id\u003ds9891)}, \u003cLexRel.has_topic: \u0027has_topic\u0027\u003e: {Lexunit(id\u003dl88379, orthform\u003dFußballschule, synset_id\u003ds63191)}})\n"
          ],
          "output_type": "stream"
        }
      ],
      "source": "print(fussball_unit.relations)\nprint(fussball_unit.incoming_relations)\n",
      "metadata": {
        "pycharm": {
          "metadata": false,
          "name": "#%%\n",
          "is_executing": false
        }
      }
    },
    {
      "cell_type": "markdown",
      "source": "Some lexical units have sense definitions, harvested from the German Wictionary. These can be accessed with the wiktionary_paraphrases field.",
      "metadata": {
        "pycharm": {
          "metadata": false,
          "name": "#%% md\n"
        }
      }
    },
    {
      "cell_type": "code",
      "execution_count": 54,
      "outputs": [
        {
          "name": "stdout",
          "text": [
            "[Wictionary(LexUnit ID\u003dl29777, definition\u003dSport, Freizeit, kein Plural: eine beliebte Mannschaftssportart, welche mit 22 Spielern und einem Ball gespielt wird)]\n"
          ],
          "output_type": "stream"
        }
      ],
      "source": "print(fussball_unit.wiktionary_paraphrases)",
      "metadata": {
        "pycharm": {
          "metadata": false,
          "name": "#%%\n",
          "is_executing": false
        }
      }
    },
    {
      "cell_type": "markdown",
      "source": "Some lexical units have also been linked to the English WordNet. The can be accessed with the ili_records field. ",
      "metadata": {
        "pycharm": {
          "metadata": false,
          "name": "#%% md\n"
        }
      }
    },
    {
      "cell_type": "code",
      "execution_count": 55,
      "outputs": [
        {
          "name": "stdout",
          "text": [
            "[IliRecord(LexUnit ID\u003dl29777, relation\u003dsynonym, english_equivalent\u003dassociation football)]\n"
          ],
          "output_type": "stream"
        }
      ],
      "source": "print(fussball_unit.ili_records)\n",
      "metadata": {
        "pycharm": {
          "metadata": false,
          "name": "#%%\n",
          "is_executing": false
        }
      }
    },
    {
      "cell_type": "markdown",
      "source": "Lexical units which are verbs provide information on language use by giving at least one example sentence.\nThey are also annotated with subcategorisation patterns / verb complementations (frames). It is possible to extract\nverbs with specific complements of interest, for example if you\u0027re interested in all verbs that allow accusative complements\nyou can extract them with specific methods, defined in the frames class. \n",
      "metadata": {
        "pycharm": {
          "metadata": false,
          "name": "#%% md\n"
        }
      }
    },
    {
      "cell_type": "code",
      "execution_count": 56,
      "outputs": [
        {
          "name": "stdout",
          "text": [
            "Lexunit(id\u003dl80272, orthform\u003dschießen, synset_id\u003ds56962)\n[\u0027Er hatte den Ball ins Tor geschossen.\u0027]\n[\u0027NN.AN.BD\u0027]\nThere are  11090 verbs that can take an accusative complement in GermaNet \n An example of such is: Lexunit(id\u003dl141965, orthform\u003ddurchkosten, synset_id\u003ds106827) \n Another example is : Lexunit(id\u003dl79571, orthform\u003dverweisen, synset_id\u003ds56451)\n"
          ],
          "output_type": "stream"
        }
      ],
      "source": "schiessen \u003d germanet.get_lexunit_by_id(\"l80272\")\nprint(schiessen)\nprint(schiessen.examples)\nprint(schiessen.frames)\nf \u003d frames.Frames(germanet.frames2lexunits)\nall_verbs_with_accusative_complement \u003d f.extract_accusative_complemtent()\nprint(\"There are  %d verbs that can take an accusative complement in GermaNet \\n An example of such is: %s \\n Another example is : %s\"\n      % (len(all_verbs_with_accusative_complement), all_verbs_with_accusative_complement.pop(), all_verbs_with_accusative_complement.pop()))\n",
      "metadata": {
        "pycharm": {
          "metadata": false,
          "name": "#%%\n",
          "is_executing": false
        }
      }
    },
    {
      "cell_type": "markdown",
      "source": "## How to extract a large number of examples by applying a filter function\nIf you would like to extract several lexical units or synsets from GermaNet that fulfill a certain number of \nconditions you can create a filter configuration. A filter configuration allows you for example to search for words of specific\nWord Classes (e.g. you might be interested in extracting all abstract nouns) or you would like to extract all words that \ncontain a specific subword. To do a search you have to create a filter configuration object. You have to pass a search string\nas an argument. All other options have defaults but you can set them to adapt your search. \n",
      "metadata": {
        "pycharm": {
          "metadata": false,
          "name": "#%% md\n"
        }
      }
    },
    {
      "cell_type": "code",
      "execution_count": 57,
      "outputs": [
        {
          "name": "stdout",
          "text": [
            "filtered result\nSynset(id\u003ds56664, lexunits\u003dschießen)\nSynset(id\u003ds123485, lexunits\u003dschießen)\nSynset(id\u003ds21555, lexunits\u003dSchießsport, Sportschießen, Schießen)\nSynset(id\u003ds59153, lexunits\u003dknipsen, schießen)\nSynset(id\u003ds57998, lexunits\u003dstürmen, stürzen, schießen)\nSynset(id\u003ds60205, lexunits\u003derlegen, schießen)\nSynset(id\u003ds56650, lexunits\u003dschießen)\nSynset(id\u003ds56962, lexunits\u003dschießen)\n\nfiltered result\nSynset(id\u003ds56650, lexunits\u003dschießen) WordClass.Konkurrenz\nSynset(id\u003ds56664, lexunits\u003dschießen) WordClass.Konkurrenz\n\nfiltered result\nset()\n"
          ],
          "output_type": "stream"
        }
      ],
      "source": "# we can search for \"schuss\" but we don\u0027t want to care about upper or lowercasing and about different orthforms:\nfilterconfig \u003d Filterconfig(\"schießen\", ignore_case\u003dTrue)\nresult \u003d filterconfig.filter_synsets(germanet)\nprint(\"filtered result\")\nfor word in result:\n    print(word)\n# Let\u0027s say we are only interested in synsets of a specific semantic class:\nfilterconfig.word_classes \u003d [WordClass.Konkurrenz]\nresult \u003d filterconfig.filter_synsets(germanet)\nprint(\"\\nfiltered result\")\nfor word in result:\n    print(word, word.word_class)\n# if we now filter by word category and use only nouns, our result will be empty because there is not entry for \u0027schießen\u0027 as a noun:\nfilterconfig.word_categories \u003d [WordCategory.nomen]\nresult \u003d filterconfig.filter_synsets(germanet)\nprint(\"\\nfiltered result\")\nprint(result)",
      "metadata": {
        "pycharm": {
          "metadata": false,
          "name": "#%%\n",
          "is_executing": false
        }
      }
    },
    {
      "cell_type": "markdown",
      "source": "Besides using full words as search strings we can use regular expressions. This can be very useful if you are interested \nin words with certain character sequences. The next examples shows how to extract all words that end with \"kuchen\", all \nwords that contain a whitespace or hyphen (useful for example to extract multiword expressions) and how to extract verbs that contain\n\u0027ff\u0027 or \u0027ss\u0027:",
      "metadata": {
        "pycharm": {
          "metadata": false,
          "name": "#%% md\n"
        }
      }
    },
    {
      "cell_type": "code",
      "execution_count": 58,
      "outputs": [
        {
          "name": "stdout",
          "text": [
            "Found  60 words that end with \u0027kuchen\u0027 in GermaNet \n An example of such is: Lexunit(id\u003dl117636, orthform\u003dFilterkuchen, synset_id\u003ds87408) \n Another example is : Lexunit(id\u003dl57634, orthform\u003dNusskuchen, synset_id\u003ds39235)\n",
            "\nFound  5183 multiword expressions with whitespace or hypen in GermaNet \n An example of such is: Lexunit(id\u003dl92787, orthform\u003dBelize City, synset_id\u003ds43847) \n Another example is : Lexunit(id\u003dl44251, orthform\u003dplattdeutscher Dialekt, synset_id\u003ds32155)\n",
            "{Lexunit(id\u003dl161058, orthform\u003dvorlassen, synset_id\u003ds122408), Lexunit(id\u003dl78492, orthform\u003dmessen, synset_id\u003ds55626), Lexunit(id\u003dl85818, orthform\u003dauffressen, synset_id\u003ds61091), Lexunit(id\u003dl85132, orthform\u003dherauslassen, synset_id\u003ds60572), Lexunit(id\u003dl77089, orthform\u003dabschlaffen, synset_id\u003ds54602), Lexunit(id\u003dl160720, orthform\u003dhinschaffen, synset_id\u003ds122122), Lexunit(id\u003dl154941, orthform\u003dabkassieren, synset_id\u003ds117379), Lexunit(id\u003dl78269, orthform\u003dmissbilligen, synset_id\u003ds55465), Lexunit(id\u003dl84415, orthform\u003dpassivieren, synset_id\u003ds60040), Lexunit(id\u003dl85888, orthform\u003dschnüffeln, synset_id\u003ds61136), Lexunit(id\u003dl85283, orthform\u003dauspressen, synset_id\u003ds60685), Lexunit(id\u003dl85783, orthform\u003dprassen, synset_id\u003ds61062), Lexunit(id\u003dl85819, orthform\u003dwegfressen, synset_id\u003ds61091), Lexunit(id\u003dl76456, orthform\u003dausstellen, synset_id\u003ds54182), Lexunit(id\u003dl85133, orthform\u003drauslassen, synset_id\u003ds60572), Lexunit(id\u003dl85771, orthform\u003dauffressen, synset_id\u003ds61052), Lexunit(id\u003dl85826, orthform\u003dwegfressen, synset_id\u003ds61097), Lexunit(id\u003dl75988, orthform\u003dbezuschussen, synset_id\u003ds53860), Lexunit(id\u003dl81902, orthform\u003dvorwärtsstreben, synset_id\u003ds58157), Lexunit(id\u003dl145114, orthform\u003dausscheren, synset_id\u003ds109365), Lexunit(id\u003dl160687, orthform\u003dhinausschicken, synset_id\u003ds122097), Lexunit(id\u003dl108178, orthform\u003dtrassieren, synset_id\u003ds79858), Lexunit(id\u003dl81600, orthform\u003dpuffen, synset_id\u003ds57944), Lexunit(id\u003dl75964, orthform\u003dassistieren, synset_id\u003ds53838), Lexunit(id\u003dl140609, orthform\u003dmuffeln, synset_id\u003ds105798), Lexunit(id\u003dl78063, orthform\u003dverwissenschaftlichen, synset_id\u003ds55331), Lexunit(id\u003dl75758, orthform\u003daussetzen, synset_id\u003ds53668), Lexunit(id\u003dl160685, orthform\u003dhinausschaffen, synset_id\u003ds122096), Lexunit(id\u003dl78851, orthform\u003dvorausschicken, synset_id\u003ds55902), Lexunit(id\u003dl84059, orthform\u003dverfünffachen, synset_id\u003ds59778), Lexunit(id\u003dl85780, orthform\u003dmit Genuss essen, synset_id\u003ds61061), Lexunit(id\u003dl85887, orthform\u003dkiffen, synset_id\u003ds61135), Lexunit(id\u003dl164182, orthform\u003dhinunterlassen, synset_id\u003ds125029), Lexunit(id\u003dl75656, orthform\u003daufführen, synset_id\u003ds53603), Lexunit(id\u003dl145119, orthform\u003dausschlagen, synset_id\u003ds109370), Lexunit(id\u003dl111537, orthform\u003dvermasseln, synset_id\u003ds59815), Lexunit(id\u003dl84692, orthform\u003dnachbessern, synset_id\u003ds60244), Lexunit(id\u003dl77501, orthform\u003dbüffeln, synset_id\u003ds54920), Lexunit(id\u003dl75490, orthform\u003dausstoßen, synset_id\u003ds53478), Lexunit(id\u003dl145142, orthform\u003dausschreiben, synset_id\u003ds53668), Lexunit(id\u003dl75834, orthform\u003daufschlüsseln, synset_id\u003ds53731), Lexunit(id\u003dl84399, orthform\u003dpuffern, synset_id\u003ds60027), Lexunit(id\u003dl85775, orthform\u003danfressen, synset_id\u003ds61056), Lexunit(id\u003dl85788, orthform\u003dessen mit Instrument, synset_id\u003ds61065), Lexunit(id\u003dl80193, orthform\u003dlosschneiden, synset_id\u003ds56913), Lexunit(id\u003dl85113, orthform\u003dauffangen, synset_id\u003ds60556), Lexunit(id\u003dl77329, orthform\u003derhoffen, synset_id\u003ds54782), Lexunit(id\u003dl163129, orthform\u003dumschaffen, synset_id\u003ds124158), Lexunit(id\u003dl84729, orthform\u003dentfesseln, synset_id\u003ds60274), Lexunit(id\u003dl83307, orthform\u003dausschmücken, synset_id\u003ds59198), Lexunit(id\u003dl145121, orthform\u003dausschlagen, synset_id\u003ds109372), Lexunit(id\u003dl84300, orthform\u003dzerfressen, synset_id\u003ds59952), Lexunit(id\u003dl89452, orthform\u003dausschreiben, synset_id\u003ds64092), Lexunit(id\u003dl80288, orthform\u003daussäen, synset_id\u003ds56974), Lexunit(id\u003dl85087, orthform\u003dausspülen, synset_id\u003ds60535), Lexunit(id\u003dl163579, orthform\u003dmitlassen, synset_id\u003ds124515), Lexunit(id\u003dl76190, orthform\u003ddiffamieren, synset_id\u003ds53990), Lexunit(id\u003dl84173, orthform\u003dsuffigieren, synset_id\u003ds59847), Lexunit(id\u003dl85143, orthform\u003dherausschreiben, synset_id\u003ds60579), Lexunit(id\u003dl78501, orthform\u003dbemessen, synset_id\u003ds55634), Lexunit(id\u003dl162096, orthform\u003dvorbeilassen, synset_id\u003ds123286), Lexunit(id\u003dl164347, orthform\u003dvermassen, synset_id\u003ds125175), Lexunit(id\u003dl157919, orthform\u003ddissertieren, synset_id\u003ds53656), Lexunit(id\u003dl158123, orthform\u003dausscharren, synset_id\u003ds119957), Lexunit(id\u003dl80194, orthform\u003dlossäbeln, synset_id\u003ds56913), Lexunit(id\u003dl85820, orthform\u003danfressen, synset_id\u003ds61092), Lexunit(id\u003dl85797, orthform\u003dEssenszeit spezifiziert, synset_id\u003ds61073), Lexunit(id\u003dl73732, orthform\u003dlassen, synset_id\u003ds52220), Lexunit(id\u003dl83267, orthform\u003derfassen, synset_id\u003ds59167), Lexunit(id\u003dl160428, orthform\u003dhineinfressen, synset_id\u003ds121887), Lexunit(id\u003dl85028, orthform\u003dausstopfen, synset_id\u003ds60487), Lexunit(id\u003dl145112, orthform\u003dausschalen, synset_id\u003ds109363), Lexunit(id\u003dl145124, orthform\u003dausschlagen, synset_id\u003ds109375), Lexunit(id\u003dl82412, orthform\u003dbegaffen, synset_id\u003ds58521), Lexunit(id\u003dl77860, orthform\u003dablassen, synset_id\u003ds55177), Lexunit(id\u003dl78089, orthform\u003dkulturell beeinflussen, synset_id\u003ds55352), Lexunit(id\u003dl83789, orthform\u003dverbessern, synset_id\u003ds59563), Lexunit(id\u003dl85804, orthform\u003dMittag essen, synset_id\u003ds61080), Lexunit(id\u003dl84114, orthform\u003dauffliegen, synset_id\u003ds59814), Lexunit(id\u003dl145183, orthform\u003dausstreichen, synset_id\u003ds82319), Lexunit(id\u003dl73733, orthform\u003dbelassen, synset_id\u003ds52220), Lexunit(id\u003dl84367, orthform\u003driffeln, synset_id\u003ds60005), Lexunit(id\u003dl81020, orthform\u003drunterlassen, synset_id\u003ds57516), Lexunit(id\u003dl85770, orthform\u003dfressen, synset_id\u003ds61051), Lexunit(id\u003dl76150, orthform\u003dausscheiden, synset_id\u003ds53963), Lexunit(id\u003dl84678, orthform\u003derdrosseln, synset_id\u003ds60234), Lexunit(id\u003dl145115, orthform\u003dausschlachten, synset_id\u003ds109366), Lexunit(id\u003dl145152, orthform\u003dausschwitzen, synset_id\u003ds109401), Lexunit(id\u003dl78858, orthform\u003dvoraussagen, synset_id\u003ds55908), Lexunit(id\u003dl81019, orthform\u003dherunterlassen, synset_id\u003ds57516), Lexunit(id\u003dl85774, orthform\u003dvollfressen, synset_id\u003ds61055), Lexunit(id\u003dl75984, orthform\u003dherausstellen, synset_id\u003ds53856), Lexunit(id\u003dl74159, orthform\u003draffen, synset_id\u003ds52533), Lexunit(id\u003dl157918, orthform\u003ddissen, synset_id\u003ds119788), Lexunit(id\u003dl76137, orthform\u003dausschließen, synset_id\u003ds53954), Lexunit(id\u003dl75537, orthform\u003dprozessieren, synset_id\u003ds53513), Lexunit(id\u003dl85817, orthform\u003dfressen, synset_id\u003ds61090), Lexunit(id\u003dl145148, orthform\u003dausschreiben, synset_id\u003ds109397), Lexunit(id\u003dl145156, orthform\u003dausschöpfen, synset_id\u003ds109405), Lexunit(id\u003dl84351, orthform\u003dausstanzen, synset_id\u003ds59992), Lexunit(id\u003dl82278, orthform\u003dauffangen, synset_id\u003ds58432), Lexunit(id\u003dl83309, orthform\u003dausstaffieren, synset_id\u003ds59200), Lexunit(id\u003dl84761, orthform\u003dauffrischen, synset_id\u003ds60299), Lexunit(id\u003dl159396, orthform\u003dherablassen, synset_id\u003ds57516), Lexunit(id\u003dl76077, orthform\u003dvergewissern, synset_id\u003ds53915), Lexunit(id\u003dl81103, orthform\u003daussprühen, synset_id\u003ds57585), Lexunit(id\u003dl75906, orthform\u003daufführen, synset_id\u003ds53792), Lexunit(id\u003dl85823, orthform\u003dvollfressen, synset_id\u003ds61094), Lexunit(id\u003dl78502, orthform\u003dnachmessen, synset_id\u003ds55635), Lexunit(id\u003dl84476, orthform\u003dfrikassieren, synset_id\u003ds60081), Lexunit(id\u003dl84212, orthform\u003dfokussieren, synset_id\u003ds59882), Lexunit(id\u003dl84738, orthform\u003dausstreichen, synset_id\u003ds60282), Lexunit(id\u003dl145150, orthform\u003dausschweifen, synset_id\u003ds109399), Lexunit(id\u003dl84172, orthform\u003daffigieren, synset_id\u003ds59846), Lexunit(id\u003dl84095, orthform\u003dmisslingen, synset_id\u003ds59804), Lexunit(id\u003dl160411, orthform\u003dhinablassen, synset_id\u003ds57516), Lexunit(id\u003dl75011, orthform\u003dmisshandeln, synset_id\u003ds53125), Lexunit(id\u003dl81004, orthform\u003dhissen, synset_id\u003ds57504), Lexunit(id\u003dl82749, orthform\u003dschaffen, synset_id\u003ds58780), Lexunit(id\u003dl76091, orthform\u003dzulassen, synset_id\u003ds53927), Lexunit(id\u003dl145177, orthform\u003dausstellen, synset_id\u003ds59890), Lexunit(id\u003dl78495, orthform\u003dabmessen, synset_id\u003ds55628), Lexunit(id\u003dl82433, orthform\u003dausspionieren, synset_id\u003ds58536), Lexunit(id\u003dl75179, orthform\u003daufeinandertreffen, synset_id\u003ds53249), Lexunit(id\u003dl82750, orthform\u003derschaffen, synset_id\u003ds58780), Lexunit(id\u003dl84097, orthform\u003dmissglücken, synset_id\u003ds59804), Lexunit(id\u003dl94517, orthform\u003dherausschauen, synset_id\u003ds68442), Lexunit(id\u003dl140765, orthform\u003dauffahren, synset_id\u003ds105920), Lexunit(id\u003dl83479, orthform\u003dsitzen lassen, synset_id\u003ds59327), Lexunit(id\u003dl75388, orthform\u003dhinausschmeißen, synset_id\u003ds53401), Lexunit(id\u003dl159397, orthform\u003dherablassen, synset_id\u003ds121033), Lexunit(id\u003dl78013, orthform\u003dschlussfolgern, synset_id\u003ds55290), Lexunit(id\u003dl80338, orthform\u003dfassen, synset_id\u003ds57013), Lexunit(id\u003dl84782, orthform\u003dverschlimmbessern, synset_id\u003ds60316), Lexunit(id\u003dl79862, orthform\u003dausspielen, synset_id\u003ds56678), Lexunit(id\u003dl77222, orthform\u003dweiterwissen, synset_id\u003ds54701), Lexunit(id\u003dl83220, orthform\u003dausbessern, synset_id\u003ds59135), Lexunit(id\u003dl77529, orthform\u003dentziffern, synset_id\u003ds54943), Lexunit(id\u003dl74103, orthform\u003dverpassen, synset_id\u003ds52492), Lexunit(id\u003dl144859, orthform\u003dauffassen, synset_id\u003ds54988), Lexunit(id\u003dl73446, orthform\u003dhinpassen, synset_id\u003ds52004), Lexunit(id\u003dl130443, orthform\u003dverfressen, synset_id\u003ds97927), Lexunit(id\u003dl132265, orthform\u003dhinausschieben, synset_id\u003ds99427), Lexunit(id\u003dl159459, orthform\u003dheranlassen, synset_id\u003ds121087), Lexunit(id\u003dl73514, orthform\u003dfassen, synset_id\u003ds52054), Lexunit(id\u003dl83278, orthform\u003dfassen, synset_id\u003ds59176), Lexunit(id\u003dl77518, orthform\u003dauffrischen, synset_id\u003ds54932), Lexunit(id\u003dl145157, orthform\u003dausschütten, synset_id\u003ds109406), Lexunit(id\u003dl78365, orthform\u003dzusammenfassen, synset_id\u003ds55531), Lexunit(id\u003dl81099, orthform\u003dausstoßen, synset_id\u003ds57583), Lexunit(id\u003dl79884, orthform\u003dausstechen, synset_id\u003ds56698), Lexunit(id\u003dl77589, orthform\u003dauffassen, synset_id\u003ds54986), Lexunit(id\u003dl80201, orthform\u003dlosschütteln, synset_id\u003ds56918), Lexunit(id\u003dl77221, orthform\u003dwissen, synset_id\u003ds54700), Lexunit(id\u003dl76798, orthform\u003dausscheiden, synset_id\u003ds54402), Lexunit(id\u003dl108860, orthform\u003duraufführen, synset_id\u003ds80439), Lexunit(id\u003dl159824, orthform\u003dherausschieben, synset_id\u003ds99427), Lexunit(id\u003dl83279, orthform\u003deinfassen, synset_id\u003ds59176), Lexunit(id\u003dl163242, orthform\u003dranlassen, synset_id\u003ds121087), Lexunit(id\u003dl130473, orthform\u003dfressen, synset_id\u003ds97953), Lexunit(id\u003dl129388, orthform\u003draffen, synset_id\u003ds97111), Lexunit(id\u003dl141358, orthform\u003dbetreffen, synset_id\u003ds106370), Lexunit(id\u003dl78052, orthform\u003daufraffen, synset_id\u003ds55322), Lexunit(id\u003dl82781, orthform\u003dschaffen, synset_id\u003ds58798), Lexunit(id\u003dl76991, orthform\u003dblässeln, synset_id\u003ds54527), Lexunit(id\u003dl79437, orthform\u003dadressieren, synset_id\u003ds56346), Lexunit(id\u003dl130391, orthform\u003dverblassen, synset_id\u003ds97887), Lexunit(id\u003dl77967, orthform\u003deinlassen, synset_id\u003ds55256), Lexunit(id\u003dl83282, orthform\u003dumfassen, synset_id\u003ds59177), Lexunit(id\u003dl78437, orthform\u003ddechiffrieren, synset_id\u003ds55586), Lexunit(id\u003dl75422, orthform\u003danpassen, synset_id\u003ds53429), Lexunit(id\u003dl158617, orthform\u003dfortmüssen, synset_id\u003ds65437), Lexunit(id\u003dl85873, orthform\u003dpaffen, synset_id\u003ds61129), Lexunit(id\u003dl81233, orthform\u003dreffen, synset_id\u003ds57679), Lexunit(id\u003dl91023, orthform\u003dwegmüssen, synset_id\u003ds65437), Lexunit(id\u003dl159466, orthform\u003dheraufführen, synset_id\u003ds121093), Lexunit(id\u003dl107721, orthform\u003dausschweigen, synset_id\u003ds79463), Lexunit(id\u003dl78028, orthform\u003dvoraussehen, synset_id\u003ds55302), Lexunit(id\u003dl83902, orthform\u003daussterben, synset_id\u003ds59650), Lexunit(id\u003dl78398, orthform\u003daussortieren, synset_id\u003ds55557), Lexunit(id\u003dl82335, orthform\u003dausschauen, synset_id\u003ds58476), Lexunit(id\u003dl141575, orthform\u003dbieten lassen, synset_id\u003ds106534), Lexunit(id\u003dl82390, orthform\u003dausspähen, synset_id\u003ds58507), Lexunit(id\u003dl159831, orthform\u003dheraussehen, synset_id\u003ds68442), Lexunit(id\u003dl107684, orthform\u003dheraussuchen, synset_id\u003ds79429), Lexunit(id\u003dl83271, orthform\u003daufführen, synset_id\u003ds59170), Lexunit(id\u003dl84156, orthform\u003dübertreffen, synset_id\u003ds59837), Lexunit(id\u003dl85031, orthform\u003dauffüllen, synset_id\u003ds60490), Lexunit(id\u003dl142816, orthform\u003deinlassen, synset_id\u003ds107495), Lexunit(id\u003dl80188, orthform\u003dlosstechen, synset_id\u003ds56909), Lexunit(id\u003dl75424, orthform\u003deinpassen, synset_id\u003ds53429), Lexunit(id\u003dl159897, orthform\u003dhereinlassen, synset_id\u003ds121450), Lexunit(id\u003dl83914, orthform\u003dentstofflichen, synset_id\u003ds59659), Lexunit(id\u003dl79861, orthform\u003dausspielen, synset_id\u003ds56677), Lexunit(id\u003dl84926, orthform\u003dauslassen, synset_id\u003ds60414), Lexunit(id\u003dl112863, orthform\u003dverquasseln, synset_id\u003ds82742), Lexunit(id\u003dl77700, orthform\u003dverschusseln, synset_id\u003ds55068), Lexunit(id\u003dl110616, orthform\u003dverfünffachen, synset_id\u003ds81922), Lexunit(id\u003dl81382, orthform\u003dgrassieren, synset_id\u003ds57794), Lexunit(id\u003dl84112, orthform\u003dmissraten, synset_id\u003ds59813), Lexunit(id\u003dl74144, orthform\u003daussaugen, synset_id\u003ds52521), Lexunit(id\u003dl78018, orthform\u003dvoraussetzen, synset_id\u003ds55293), Lexunit(id\u003dl84791, orthform\u003dverhässlichen, synset_id\u003ds60324), Lexunit(id\u003dl83442, orthform\u003danlassen, synset_id\u003ds59293), Lexunit(id\u003dl84840, orthform\u003dbeeinflussen, synset_id\u003ds60358), Lexunit(id\u003dl144740, orthform\u003danfassen, synset_id\u003ds59297), Lexunit(id\u003dl83775, orthform\u003dassimilieren, synset_id\u003ds59552), Lexunit(id\u003dl73899, orthform\u003dzukommen lassen, synset_id\u003ds52341), Lexunit(id\u003dl81593, orthform\u003dprasseln, synset_id\u003ds57939), Lexunit(id\u003dl91474, orthform\u003dzurückmüssen, synset_id\u003ds65811), Lexunit(id\u003dl81886, orthform\u003deinschiffen, synset_id\u003ds58146), Lexunit(id\u003dl79088, orthform\u003daussagen, synset_id\u003ds56091), Lexunit(id\u003dl160433, orthform\u003dhineinlassen, synset_id\u003ds121450), Lexunit(id\u003dl73533, orthform\u003dmüssen, synset_id\u003ds52069), Lexunit(id\u003dl156253, orthform\u003danpissen, synset_id\u003ds118494), Lexunit(id\u003dl80340, orthform\u003dumfassen, synset_id\u003ds57014), Lexunit(id\u003dl84120, orthform\u003ddurchrasseln, synset_id\u003ds59816), Lexunit(id\u003dl160686, orthform\u003dhinausschauen, synset_id\u003ds68442), Lexunit(id\u003dl77113, orthform\u003dausschlafen, synset_id\u003ds54618), Lexunit(id\u003dl77705, orthform\u003dliegen lassen, synset_id\u003ds55072), Lexunit(id\u003dl83790, orthform\u003dbessern, synset_id\u003ds59564), Lexunit(id\u003dl80626, orthform\u003dfesseln, synset_id\u003ds57219), Lexunit(id\u003dl74145, orthform\u003dauspressen, synset_id\u003ds52521), Lexunit(id\u003dl163419, orthform\u003dreinlassen, synset_id\u003ds121450), Lexunit(id\u003dl77289, orthform\u003dmisstrauen, synset_id\u003ds54754), Lexunit(id\u003dl73538, orthform\u003dmüssen, synset_id\u003ds52073), Lexunit(id\u003dl82794, orthform\u003dschlossern, synset_id\u003ds58810), Lexunit(id\u003dl159825, orthform\u003dherausschlagen, synset_id\u003ds122314), Lexunit(id\u003dl75004, orthform\u003dmissbrauchen, synset_id\u003ds53121), Lexunit(id\u003dl74321, orthform\u003dscheffeln, synset_id\u003ds52649), Lexunit(id\u003dl80369, orthform\u003dfassen, synset_id\u003ds57034), Lexunit(id\u003dl109147, orthform\u003ddemissionieren, synset_id\u003ds80699), Lexunit(id\u003dl83450, orthform\u003deröffnen, synset_id\u003ds59301), Lexunit(id\u003dl129404, orthform\u003drasseln, synset_id\u003ds59816), Lexunit(id\u003dl144273, orthform\u003dentwaffnen, synset_id\u003ds108692), Lexunit(id\u003dl160688, orthform\u003dhinaussehen, synset_id\u003ds68442), Lexunit(id\u003dl75387, orthform\u003drausschmeißen, synset_id\u003ds53401), Lexunit(id\u003dl112232, orthform\u003dbeziffern, synset_id\u003ds55539), Lexunit(id\u003dl109264, orthform\u003dhinwegraffen, synset_id\u003ds79758), Lexunit(id\u003dl80233, orthform\u003dpuffen, synset_id\u003ds56934), Lexunit(id\u003dl74324, orthform\u003dkassieren, synset_id\u003ds52652), Lexunit(id\u003dl77825, orthform\u003daussuchen, synset_id\u003ds55163), Lexunit(id\u003dl109105, orthform\u003dherausstreichen, synset_id\u003ds80662), Lexunit(id\u003dl144855, orthform\u003dauffahren, synset_id\u003ds109161), Lexunit(id\u003dl75174, orthform\u003dausschlagen, synset_id\u003ds53245), Lexunit(id\u003dl150487, orthform\u003dassoziieren, synset_id\u003ds113621), Lexunit(id\u003dl129947, orthform\u003dhinausstellen, synset_id\u003ds58763), Lexunit(id\u003dl75753, orthform\u003dauffahren, synset_id\u003ds53664), Lexunit(id\u003dl74436, orthform\u003dherausspringen, synset_id\u003ds52730), Lexunit(id\u003dl131889, orthform\u003dherausspringen, synset_id\u003ds99109), Lexunit(id\u003dl80234, orthform\u003dknuffen, synset_id\u003ds56934), Lexunit(id\u003dl82387, orthform\u003dangaffen, synset_id\u003ds58504), Lexunit(id\u003dl111737, orthform\u003dbekiffen, synset_id\u003ds82840), Lexunit(id\u003dl130036, orthform\u003dsprossen, synset_id\u003ds59739), Lexunit(id\u003dl78080, orthform\u003dbeeinflussen, synset_id\u003ds55344), Lexunit(id\u003dl85790, orthform\u003dauflöffeln, synset_id\u003ds61067), Lexunit(id\u003dl75840, orthform\u003dstaffeln, synset_id\u003ds53737), Lexunit(id\u003dl78403, orthform\u003dverschlüsseln, synset_id\u003ds55562), Lexunit(id\u003dl85789, orthform\u003dlöffeln, synset_id\u003ds61066), Lexunit(id\u003dl81062, orthform\u003dbrassen, synset_id\u003ds57550), Lexunit(id\u003dl83179, orthform\u003dausstrahlen, synset_id\u003ds59102), Lexunit(id\u003dl73716, orthform\u003daussetzen, synset_id\u003ds52208), Lexunit(id\u003dl76739, orthform\u003dsprossen, synset_id\u003ds54360), Lexunit(id\u003dl77952, orthform\u003dbefassen, synset_id\u003ds55247), Lexunit(id\u003dl163593, orthform\u003drausstellen, synset_id\u003ds58763), Lexunit(id\u003dl85791, orthform\u003dauslöffeln, synset_id\u003ds61067), Lexunit(id\u003dl144894, orthform\u003dauflassen, synset_id\u003ds80170), Lexunit(id\u003dl163261, orthform\u003drausspringen, synset_id\u003ds99109), Lexunit(id\u003dl83987, orthform\u003dverblassen, synset_id\u003ds59719), Lexunit(id\u003dl78081, orthform\u003dmissionieren, synset_id\u003ds55345), Lexunit(id\u003dl82309, orthform\u003dauffinden, synset_id\u003ds58459), Lexunit(id\u003dl79602, orthform\u003dsoufflieren, synset_id\u003ds56475), Lexunit(id\u003dl83201, orthform\u003dentfesseln, synset_id\u003ds59120), Lexunit(id\u003dl150490, orthform\u003dauflassen, synset_id\u003ds113624), Lexunit(id\u003dl159465, orthform\u003dheraufführen, synset_id\u003ds121092), Lexunit(id\u003dl83932, orthform\u003ddrosseln, synset_id\u003ds59674), Lexunit(id\u003dl75500, orthform\u003daussperren, synset_id\u003ds53487), Lexunit(id\u003dl142083, orthform\u003ddifferenzieren, synset_id\u003ds106917), Lexunit(id\u003dl144310, orthform\u003dablassen, synset_id\u003ds108727), Lexunit(id\u003dl80302, orthform\u003daufforsten, synset_id\u003ds56985), Lexunit(id\u003dl142049, orthform\u003dpressen, synset_id\u003ds106891), Lexunit(id\u003dl81869, orthform\u003deintreffen, synset_id\u003ds58132), Lexunit(id\u003dl150491, orthform\u003dauflassen, synset_id\u003ds113625), Lexunit(id\u003dl82731, orthform\u003dauffliegen, synset_id\u003ds58764), Lexunit(id\u003dl85805, orthform\u003dzu Nacht essen, synset_id\u003ds61081), Lexunit(id\u003dl79630, orthform\u003daussprengen, synset_id\u003ds56497), Lexunit(id\u003dl75780, orthform\u003deröffnen, synset_id\u003ds53687), Lexunit(id\u003dl75501, orthform\u003dausschließen, synset_id\u003ds53487), Lexunit(id\u003dl159828, orthform\u003dherausschrauben, synset_id\u003ds121387), Lexunit(id\u003dl85824, orthform\u003dabfressen, synset_id\u003ds61095), Lexunit(id\u003dl80368, orthform\u003dtreffen, synset_id\u003ds57033), Lexunit(id\u003dl76462, orthform\u003dverbessern, synset_id\u003ds54188), Lexunit(id\u003dl140173, orthform\u003dlosschlagen, synset_id\u003ds105468), Lexunit(id\u003dl81015, orthform\u003draffen, synset_id\u003ds57513), Lexunit(id\u003dl75407, orthform\u003drauspfeffern, synset_id\u003ds53417), Lexunit(id\u003dl108917, orthform\u003dlosschicken, synset_id\u003ds80489), Lexunit(id\u003dl80364, orthform\u003derfassen, synset_id\u003ds57030), Lexunit(id\u003dl83141, orthform\u003deröffnen, synset_id\u003ds59073), Lexunit(id\u003dl79631, orthform\u003dausstreuen, synset_id\u003ds56497), Lexunit(id\u003dl109106, orthform\u003dherausstreichen, synset_id\u003ds80663), Lexunit(id\u003dl85802, orthform\u003dzu Abend essen, synset_id\u003ds61078), Lexunit(id\u003dl76471, orthform\u003dbesser stellen, synset_id\u003ds54194), Lexunit(id\u003dl142175, orthform\u003dzusammenraffen, synset_id\u003ds57513), Lexunit(id\u003dl75169, orthform\u003drausschmeißen, synset_id\u003ds53241), Lexunit(id\u003dl79839, orthform\u003dlosschießen, synset_id\u003ds56658), Lexunit(id\u003dl144857, orthform\u003dauffangen, synset_id\u003ds109163), Lexunit(id\u003dl83345, orthform\u003dcrossposten, synset_id\u003ds59221), Lexunit(id\u003dl78835, orthform\u003dfassen, synset_id\u003ds55888), Lexunit(id\u003dl85737, orthform\u003dessen, synset_id\u003ds61028), Lexunit(id\u003dl73447, orthform\u003dhineinpassen, synset_id\u003ds52005), Lexunit(id\u003dl82716, orthform\u003dausschließen, synset_id\u003ds58751), Lexunit(id\u003dl130344, orthform\u003dumschiffen, synset_id\u003ds97854), Lexunit(id\u003dl86992, orthform\u003daussteigen, synset_id\u003ds61976), Lexunit(id\u003dl74901, orthform\u003dstressen, synset_id\u003ds53046), Lexunit(id\u003dl77430, orthform\u003daufpassen, synset_id\u003ds54863), Lexunit(id\u003dl85090, orthform\u003derlassen, synset_id\u003ds60538), Lexunit(id\u003dl77587, orthform\u003dschnüffeln, synset_id\u003ds54984), Lexunit(id\u003dl79564, orthform\u003derlassen, synset_id\u003ds56444), Lexunit(id\u003dl79634, orthform\u003dausstrahlen, synset_id\u003ds56500), Lexunit(id\u003dl73516, orthform\u003dpassen, synset_id\u003ds52056), Lexunit(id\u003dl144388, orthform\u003derpressen, synset_id\u003ds108795), Lexunit(id\u003dl73684, orthform\u003doffenbleiben, synset_id\u003ds52191), Lexunit(id\u003dl74750, orthform\u003dausschütten, synset_id\u003ds52960), Lexunit(id\u003dl83965, orthform\u003döffnen, synset_id\u003ds59700), Lexunit(id\u003dl82386, orthform\u003dgaffen, synset_id\u003ds58503), Lexunit(id\u003dl144860, orthform\u003dauffrischen, synset_id\u003ds109164), Lexunit(id\u003dl73741, orthform\u003dsitzen lassen, synset_id\u003ds52225), Lexunit(id\u003dl85810, orthform\u003dSuppe fassen, synset_id\u003ds61083), Lexunit(id\u003dl163421, orthform\u003dreinpassen, synset_id\u003ds52005), Lexunit(id\u003dl75191, orthform\u003daussetzen, synset_id\u003ds53259), Lexunit(id\u003dl77112, orthform\u003dausspannen, synset_id\u003ds54617), Lexunit(id\u003dl131173, orthform\u003dvermessen, synset_id\u003ds98500), Lexunit(id\u003dl89945, orthform\u003dmüssen, synset_id\u003ds64496), Lexunit(id\u003dl80366, orthform\u003dzufassen, synset_id\u003ds57032), Lexunit(id\u003dl80333, orthform\u003dauffahren, synset_id\u003ds57009), Lexunit(id\u003dl75410, orthform\u003dausscheiden, synset_id\u003ds53419), Lexunit(id\u003dl74052, orthform\u003dhinterlassen, synset_id\u003ds52452), Lexunit(id\u003dl144915, orthform\u003daufraffen, synset_id\u003ds109200), Lexunit(id\u003dl77707, orthform\u003dstehen lassen, synset_id\u003ds55073), Lexunit(id\u003dl77088, orthform\u003derschlaffen, synset_id\u003ds54602), Lexunit(id\u003dl75486, orthform\u003dausschließen, synset_id\u003ds53475), Lexunit(id\u003dl75178, orthform\u003dwiedertreffen, synset_id\u003ds53248), Lexunit(id\u003dl155174, orthform\u003dabpassen, synset_id\u003ds117576), Lexunit(id\u003dl84227, orthform\u003dausschalten, synset_id\u003ds59890), Lexunit(id\u003dl75611, orthform\u003dlosspielen, synset_id\u003ds53569), Lexunit(id\u003dl163260, orthform\u003drausspringen, synset_id\u003ds52730), Lexunit(id\u003dl77384, orthform\u003dauffressen, synset_id\u003ds54826), Lexunit(id\u003dl77627, orthform\u003dtreffen, synset_id\u003ds55015), Lexunit(id\u003dl78413, orthform\u003dchiffrieren, synset_id\u003ds55566), Lexunit(id\u003dl132394, orthform\u003dvorausschicken, synset_id\u003ds99537), Lexunit(id\u003dl109420, orthform\u003dausstatten, synset_id\u003ds52456), Lexunit(id\u003dl74158, orthform\u003dzusammenraffen, synset_id\u003ds52532), Lexunit(id\u003dl75223, orthform\u003dverpassen, synset_id\u003ds53284), Lexunit(id\u003dl78867, orthform\u003dweissagen, synset_id\u003ds55911), Lexunit(id\u003dl85846, orthform\u003daussaufen, synset_id\u003ds61116), Lexunit(id\u003dl91022, orthform\u003dmitmüssen, synset_id\u003ds65436), Lexunit(id\u003dl145118, orthform\u003dausschlagen, synset_id\u003ds109369), Lexunit(id\u003dl85741, orthform\u003dwegessen, synset_id\u003ds61030), Lexunit(id\u003dl145835, orthform\u003daussteuern, synset_id\u003ds109919), Lexunit(id\u003dl73617, orthform\u003dausschauen, synset_id\u003ds52137), Lexunit(id\u003dl73448, orthform\u003dzueinanderpassen, synset_id\u003ds52006), Lexunit(id\u003dl145180, orthform\u003dausstoßen, synset_id\u003ds109428), Lexunit(id\u003dl80533, orthform\u003dbusserln, synset_id\u003ds57146), Lexunit(id\u003dl111267, orthform\u003drussifizieren, synset_id\u003ds82461), Lexunit(id\u003dl145160, orthform\u003daussehen, synset_id\u003ds109409), Lexunit(id\u003dl83719, orthform\u003dfusseln, synset_id\u003ds59508), Lexunit(id\u003dl73498, orthform\u003dauffallen, synset_id\u003ds52043), Lexunit(id\u003dl132266, orthform\u003dhinausschmeißen, synset_id\u003ds57600), Lexunit(id\u003dl74058, orthform\u003dausstaffieren, synset_id\u003ds52456), Lexunit(id\u003dl130054, orthform\u003dstraffen, synset_id\u003ds97617), Lexunit(id\u003dl78619, orthform\u003daussagen, synset_id\u003ds55727), Lexunit(id\u003dl132411, orthform\u003dhinterlassen, synset_id\u003ds99552), Lexunit(id\u003dl82025, orthform\u003daufraffen, synset_id\u003ds58242), Lexunit(id\u003dl85740, orthform\u003daufessen, synset_id\u003ds61029), Lexunit(id\u003dl74933, orthform\u003dschaffen, synset_id\u003ds53069), Lexunit(id\u003dl75467, orthform\u003danpassen, synset_id\u003ds53459), Lexunit(id\u003dl141608, orthform\u003drausschmeißen, synset_id\u003ds57600), Lexunit(id\u003dl76407, orthform\u003dbluffen, synset_id\u003ds54144), Lexunit(id\u003dl82586, orthform\u003drasseln, synset_id\u003ds58646), Lexunit(id\u003dl83696, orthform\u003ddurchnässen, synset_id\u003ds59492), Lexunit(id\u003dl144308, orthform\u003dablassen, synset_id\u003ds108725), Lexunit(id\u003dl73451, orthform\u003dzusammenpassen, synset_id\u003ds52007), Lexunit(id\u003dl145113, orthform\u003dausschalten, synset_id\u003ds109364), Lexunit(id\u003dl155860, orthform\u003dherauspressen, synset_id\u003ds118153), Lexunit(id\u003dl89411, orthform\u003dausschütten, synset_id\u003ds64054), Lexunit(id\u003dl111316, orthform\u003dverblüffen, synset_id\u003ds82501), Lexunit(id\u003dl89448, orthform\u003dausstechen, synset_id\u003ds64088), Lexunit(id\u003dl109219, orthform\u003dentziffern, synset_id\u003ds55585), Lexunit(id\u003dl75124, orthform\u003dzurücklassen, synset_id\u003ds53211), Lexunit(id\u003dl80567, orthform\u003dfirnissen, synset_id\u003ds57173), Lexunit(id\u003dl83989, orthform\u003derblassen, synset_id\u003ds59721), Lexunit(id\u003dl145168, orthform\u003dausspielen, synset_id\u003ds109417), Lexunit(id\u003dl74061, orthform\u003dstaffieren, synset_id\u003ds52456), Lexunit(id\u003dl75123, orthform\u003dübrig lassen, synset_id\u003ds53211), Lexunit(id\u003dl78435, orthform\u003dentschlüsseln, synset_id\u003ds55585), Lexunit(id\u003dl79796, orthform\u003dmessen, synset_id\u003ds56626), Lexunit(id\u003dl89449, orthform\u003dausstechen, synset_id\u003ds64089), Lexunit(id\u003dl79194, orthform\u003dinteressieren, synset_id\u003ds56162), Lexunit(id\u003dl85750, orthform\u003dArt zu essen, synset_id\u003ds61036), Lexunit(id\u003dl132491, orthform\u003dkassieren, synset_id\u003ds99613), Lexunit(id\u003dl82405, orthform\u003dmessen, synset_id\u003ds58515), Lexunit(id\u003dl155175, orthform\u003dabpassen, synset_id\u003ds117577), Lexunit(id\u003dl73471, orthform\u003ddifferieren, synset_id\u003ds52021), Lexunit(id\u003dl145169, orthform\u003dausspielen, synset_id\u003ds109418), Lexunit(id\u003dl76561, orthform\u003dmassieren, synset_id\u003ds54255), Lexunit(id\u003dl93535, orthform\u003dherausstechen, synset_id\u003ds51937), Lexunit(id\u003dl145301, orthform\u003dbeschnüffeln, synset_id\u003ds109531), Lexunit(id\u003dl144858, orthform\u003dauffangen, synset_id\u003ds108670), Lexunit(id\u003dl75777, orthform\u003dveranlassen, synset_id\u003ds53684), Lexunit(id\u003dl131887, orthform\u003dherausschauen, synset_id\u003ds99107), Lexunit(id\u003dl83867, orthform\u003danlassen, synset_id\u003ds59621), Lexunit(id\u003dl134157, orthform\u003dzumessen, synset_id\u003ds100938), Lexunit(id\u003dl78688, orthform\u003dkassibern, synset_id\u003ds55775), Lexunit(id\u003dl75760, orthform\u003dausschreiben, synset_id\u003ds53670), Lexunit(id\u003dl107683, orthform\u003dhinausstehen, synset_id\u003ds51937), Lexunit(id\u003dl76259, orthform\u003dausschöpfen, synset_id\u003ds54041), Lexunit(id\u003dl77230, orthform\u003dverlassen, synset_id\u003ds54708), Lexunit(id\u003dl76482, orthform\u003dnachlassen, synset_id\u003ds54200), Lexunit(id\u003dl89313, orthform\u003dlosschlagen, synset_id\u003ds63969), Lexunit(id\u003dl145117, orthform\u003dausschlagen, synset_id\u003ds109368), Lexunit(id\u003dl85691, orthform\u003dvergenossenschaftlichen, synset_id\u003ds60994), Lexunit(id\u003dl159840, orthform\u003dherausstürzen, synset_id\u003ds66951), Lexunit(id\u003dl85465, orthform\u003dausschachten, synset_id\u003ds60820), Lexunit(id\u003dl107685, orthform\u003dherausstehen, synset_id\u003ds51937), Lexunit(id\u003dl75378, orthform\u003dentlassen, synset_id\u003ds53395), Lexunit(id\u003dl92773, orthform\u003dhinausschießen, synset_id\u003ds66951), Lexunit(id\u003dl92970, orthform\u003dauftreffen, synset_id\u003ds57008), Lexunit(id\u003dl145176, orthform\u003daussteigen, synset_id\u003ds109425), Lexunit(id\u003dl81764, orthform\u003dauffliegen, synset_id\u003ds58052), Lexunit(id\u003dl156143, orthform\u003dabküssen, synset_id\u003ds118403), Lexunit(id\u003dl74849, orthform\u003dinteressieren, synset_id\u003ds53014), Lexunit(id\u003dl108074, orthform\u003ddahinraffen, synset_id\u003ds79758), Lexunit(id\u003dl157520, orthform\u003dankläffen, synset_id\u003ds119455), Lexunit(id\u003dl76261, orthform\u003dausspielen, synset_id\u003ds54041), Lexunit(id\u003dl74581, orthform\u003dfesseln, synset_id\u003ds52839), Lexunit(id\u003dl144328, orthform\u003dabmessen, synset_id\u003ds108743), Lexunit(id\u003dl93534, orthform\u003dherausstechen, synset_id\u003ds52041), Lexunit(id\u003dl73411, orthform\u003deintreffen, synset_id\u003ds51978), Lexunit(id\u003dl75247, orthform\u003deinlassen, synset_id\u003ds53302), Lexunit(id\u003dl107128, orthform\u003dherausschießen, synset_id\u003ds66951), Lexunit(id\u003dl76156, orthform\u003dtreffen, synset_id\u003ds53967), Lexunit(id\u003dl156313, orthform\u003danbetreffen, synset_id\u003ds54229), Lexunit(id\u003dl73392, orthform\u003dpassieren, synset_id\u003ds51963), Lexunit(id\u003dl74653, orthform\u003dhassen, synset_id\u003ds52886), Lexunit(id\u003dl78613, orthform\u003daussprechen, synset_id\u003ds55723), Lexunit(id\u003dl158210, orthform\u003deinpressen, synset_id\u003ds120024), Lexunit(id\u003dl82730, orthform\u003dherausstellen, synset_id\u003ds58763), Lexunit(id\u003dl75832, orthform\u003dauffächern, synset_id\u003ds53730), Lexunit(id\u003dl74639, orthform\u003dmissgönnen, synset_id\u003ds52879), Lexunit(id\u003dl159464, orthform\u003dherauffahren, synset_id\u003ds80809), Lexunit(id\u003dl106627, orthform\u003dzerfressen, synset_id\u003ds78537), Lexunit(id\u003dl74509, orthform\u003daussitzen, synset_id\u003ds52785), Lexunit(id\u003dl73370, orthform\u003dumfassen, synset_id\u003ds51943), Lexunit(id\u003dl91019, orthform\u003ddiffundieren, synset_id\u003ds65433), Lexunit(id\u003dl107134, orthform\u003ddurchmessen, synset_id\u003ds78967), Lexunit(id\u003dl145185, orthform\u003dausstreuen, synset_id\u003ds109432), Lexunit(id\u003dl85563, orthform\u003dkassettieren, synset_id\u003ds60902), Lexunit(id\u003dl162690, orthform\u003dlosschreiben, synset_id\u003ds123800), Lexunit(id\u003dl75120, orthform\u003düberlassen, synset_id\u003ds53210), Lexunit(id\u003dl141270, orthform\u003dfassen, synset_id\u003ds106299), Lexunit(id\u003dl145122, orthform\u003dausschlagen, synset_id\u003ds109373), Lexunit(id\u003dl73487, orthform\u003dauffallen, synset_id\u003ds52034), Lexunit(id\u003dl159384, orthform\u003dhineinpressen, synset_id\u003ds120024), Lexunit(id\u003dl76343, orthform\u003dschaffen, synset_id\u003ds54102), Lexunit(id\u003dl73565, orthform\u003dumfassen, synset_id\u003ds52095), Lexunit(id\u003dl83937, orthform\u003dnachlassen, synset_id\u003ds59678), Lexunit(id\u003dl109929, orthform\u003dkonzessionieren, synset_id\u003ds81336), Lexunit(id\u003dl109276, orthform\u003dhinauffahren, synset_id\u003ds80809), Lexunit(id\u003dl74505, orthform\u003dausstehen, synset_id\u003ds52782), Lexunit(id\u003dl75383, orthform\u003dschassen, synset_id\u003ds53399), Lexunit(id\u003dl83075, orthform\u003dnachäffen, synset_id\u003ds59024), Lexunit(id\u003dl77809, orthform\u003daufbessern, synset_id\u003ds55151), Lexunit(id\u003dl81789, orthform\u003dhinterlassen, synset_id\u003ds58065), Lexunit(id\u003dl157838, orthform\u003dausschwenken, synset_id\u003ds119721), Lexunit(id\u003dl73580, orthform\u003dvermissen, synset_id\u003ds52107), Lexunit(id\u003dl145249, orthform\u003dausschlagen, synset_id\u003ds109487), Lexunit(id\u003dl80798, orthform\u003dschaffen, synset_id\u003ds57351), Lexunit(id\u003dl159319, orthform\u003dhindurchmüssen, synset_id\u003ds66165), Lexunit(id\u003dl83076, orthform\u003däffen, synset_id\u003ds59024), Lexunit(id\u003dl74847, orthform\u003dtreffen, synset_id\u003ds53012), Lexunit(id\u003dl130103, orthform\u003dreinmüssen, synset_id\u003ds66909), Lexunit(id\u003dl145120, orthform\u003dausschlagen, synset_id\u003ds109371), Lexunit(id\u003dl79698, orthform\u003dwiederbewaffnen, synset_id\u003ds56551), Lexunit(id\u003dl79318, orthform\u003danblaffen, synset_id\u003ds56260), Lexunit(id\u003dl85150, orthform\u003daussiedeln, synset_id\u003ds60584), Lexunit(id\u003dl81790, orthform\u003dzurücklassen, synset_id\u003ds58065), Lexunit(id\u003dl91888, orthform\u003ddurchmüssen, synset_id\u003ds66165), Lexunit(id\u003dl74683, orthform\u003dinteressieren, synset_id\u003ds52909), Lexunit(id\u003dl163259, orthform\u003drausschneiden, synset_id\u003ds124258), Lexunit(id\u003dl140562, orthform\u003dmissen, synset_id\u003ds52107), Lexunit(id\u003dl157873, orthform\u003dausstecken, synset_id\u003ds119751), Lexunit(id\u003dl92729, orthform\u003dhineinmüssen, synset_id\u003ds66909), Lexunit(id\u003dl93585, orthform\u003dmissbrauchen, synset_id\u003ds53126), Lexunit(id\u003dl84217, orthform\u003deinmessen, synset_id\u003ds59884), Lexunit(id\u003dl130474, orthform\u003dfressen, synset_id\u003ds97954), Lexunit(id\u003dl82438, orthform\u003daufpassen, synset_id\u003ds58541), Lexunit(id\u003dl79232, orthform\u003drüffeln, synset_id\u003ds56192), Lexunit(id\u003dl131174, orthform\u003dvermessen, synset_id\u003ds53270), Lexunit(id\u003dl89453, orthform\u003daussprengen, synset_id\u003ds64093), Lexunit(id\u003dl145153, orthform\u003dausschwärmen, synset_id\u003ds109402), Lexunit(id\u003dl74277, orthform\u003dchiffonnieren, synset_id\u003ds52611), Lexunit(id\u003dl110006, orthform\u003deröffnen, synset_id\u003ds55882), Lexunit(id\u003dl76795, orthform\u003dausstoßen, synset_id\u003ds110303), Lexunit(id\u003dl157874, orthform\u003daussteifen, synset_id\u003ds119752), Lexunit(id\u003dl83971, orthform\u003dauffliegen, synset_id\u003ds59705), Lexunit(id\u003dl91024, orthform\u003dwegmüssen, synset_id\u003ds65438), Lexunit(id\u003dl73575, orthform\u003dnicht eintreffen, synset_id\u003ds52103), Lexunit(id\u003dl145166, orthform\u003dfreilassen, synset_id\u003ds109415), Lexunit(id\u003dl83780, orthform\u003danpassen, synset_id\u003ds59555), Lexunit(id\u003dl145155, orthform\u003dausschöpfen, synset_id\u003ds109404), Lexunit(id\u003dl78847, orthform\u003dlosschießen, synset_id\u003ds55898), Lexunit(id\u003dl163952, orthform\u003dherniederprasseln, synset_id\u003ds83241), Lexunit(id\u003dl73951, orthform\u003dverprassen, synset_id\u003ds52379), Lexunit(id\u003dl85964, orthform\u003dausschlachten, synset_id\u003ds61198), Lexunit(id\u003dl74282, orthform\u003deinkassieren, synset_id\u003ds52615), Lexunit(id\u003dl83918, orthform\u003dverpuffen, synset_id\u003ds59662), Lexunit(id\u003dl75112, orthform\u003daussondern, synset_id\u003ds53204), Lexunit(id\u003dl77698, orthform\u003dvergessen, synset_id\u003ds55067), Lexunit(id\u003dl83970, orthform\u003döffnen, synset_id\u003ds59704), Lexunit(id\u003dl111004, orthform\u003dvernachlässigen, synset_id\u003ds82246), Lexunit(id\u003dl92979, orthform\u003dklassieren, synset_id\u003ds53736), Lexunit(id\u003dl142008, orthform\u003dpassivieren, synset_id\u003ds106858), Lexunit(id\u003dl156193, orthform\u003daffichieren, synset_id\u003ds118449), Lexunit(id\u003dl112278, orthform\u003dniederprasseln, synset_id\u003ds83241), Lexunit(id\u003dl145174, orthform\u003dausstehen, synset_id\u003ds109423), Lexunit(id\u003dl77092, orthform\u003dstressen, synset_id\u003ds54604), Lexunit(id\u003dl76250, orthform\u003dzupasse kommen, synset_id\u003ds54035), Lexunit(id\u003dl131196, orthform\u003drausmüssen, synset_id\u003ds66914), Lexunit(id\u003dl75849, orthform\u003deröffnen, synset_id\u003ds53746), Lexunit(id\u003dl145167, orthform\u003daussparen, synset_id\u003ds109416), Lexunit(id\u003dl89481, orthform\u003dausschlachten, synset_id\u003ds64119), Lexunit(id\u003dl159878, orthform\u003dherbeischaffen, synset_id\u003ds80818), Lexunit(id\u003dl75113, orthform\u003daussortieren, synset_id\u003ds53204), Lexunit(id\u003dl73454, orthform\u003dzutreffen, synset_id\u003ds52008), Lexunit(id\u003dl109387, orthform\u003dlassen, synset_id\u003ds80908), Lexunit(id\u003dl92735, orthform\u003dherausmüssen, synset_id\u003ds66914), Lexunit(id\u003dl81563, orthform\u003dumschiffen, synset_id\u003ds57916), Lexunit(id\u003dl76867, orthform\u003drausspucken, synset_id\u003ds113503), Lexunit(id\u003dl75839, orthform\u003dklassifizieren, synset_id\u003ds53736), Lexunit(id\u003dl75175, orthform\u003dtreffen, synset_id\u003ds53246), Lexunit(id\u003dl76248, orthform\u003dzupass kommen, synset_id\u003ds54035), Lexunit(id\u003dl82673, orthform\u003dLicht aussenden, synset_id\u003ds58715), Lexunit(id\u003dl92378, orthform\u003ddissoziieren, synset_id\u003ds66590), Lexunit(id\u003dl112282, orthform\u003dherunterprasseln, synset_id\u003ds83245), Lexunit(id\u003dl85792, orthform\u003dEssensort spezifiziert, synset_id\u003ds61068), Lexunit(id\u003dl163244, orthform\u003dranschaffen, synset_id\u003ds80818), Lexunit(id\u003dl78844, orthform\u003dfallen lassen, synset_id\u003ds55895), Lexunit(id\u003dl145178, orthform\u003dausstellen, synset_id\u003ds109426), Lexunit(id\u003dl93728, orthform\u003dhinausmüssen, synset_id\u003ds66914), Lexunit(id\u003dl139847, orthform\u003dzusammentreffen, synset_id\u003ds51974), Lexunit(id\u003dl145175, orthform\u003dausstehen, synset_id\u003ds109424), Lexunit(id\u003dl73455, orthform\u003dtreffen, synset_id\u003ds52008), Lexunit(id\u003dl91058, orthform\u003daussenden, synset_id\u003ds65470), Lexunit(id\u003dl85622, orthform\u003dausfressen, synset_id\u003ds60949), Lexunit(id\u003dl87493, orthform\u003deinpassen, synset_id\u003ds62406), Lexunit(id\u003dl75117, orthform\u003dablassen, synset_id\u003ds53207), Lexunit(id\u003dl78751, orthform\u003dausschweifen, synset_id\u003ds55821), Lexunit(id\u003dl81839, orthform\u003dwassern, synset_id\u003ds58105), Lexunit(id\u003dl76865, orthform\u003dausspucken, synset_id\u003ds113503), Lexunit(id\u003dl82318, orthform\u003dantreffen, synset_id\u003ds58465), Lexunit(id\u003dl75015, orthform\u003danfassen, synset_id\u003ds53128), Lexunit(id\u003dl109285, orthform\u003dheranschaffen, synset_id\u003ds80818), Lexunit(id\u003dl85536, orthform\u003daufschlüsseln, synset_id\u003ds60879), Lexunit(id\u003dl107137, orthform\u003dausschicken, synset_id\u003ds65470), Lexunit(id\u003dl159299, orthform\u003dfestfressen, synset_id\u003ds120960), Lexunit(id\u003dl73616, orthform\u003daussehen, synset_id\u003ds52137), Lexunit(id\u003dl92377, orthform\u003ddissoziieren, synset_id\u003ds66589), Lexunit(id\u003dl145184, orthform\u003dausstreuen, synset_id\u003ds109431), Lexunit(id\u003dl132349, orthform\u003dhineinpassen, synset_id\u003ds62406), Lexunit(id\u003dl157644, orthform\u003daufpressen, synset_id\u003ds119562), Lexunit(id\u003dl108171, orthform\u003dvorbeimüssen, synset_id\u003ds79852), Lexunit(id\u003dl75417, orthform\u003daussteigen, synset_id\u003ds53425), Lexunit(id\u003dl73441, orthform\u003dpassen, synset_id\u003ds52001), Lexunit(id\u003dl76093, orthform\u003dzulassen, synset_id\u003ds53929), Lexunit(id\u003dl79644, orthform\u003dtreffen, synset_id\u003ds56509), Lexunit(id\u003dl82099, orthform\u003dschiffen, synset_id\u003ds58296), Lexunit(id\u003dl81256, orthform\u003dtieffliegen, synset_id\u003ds57700), Lexunit(id\u003dl109388, orthform\u003dlassen, synset_id\u003ds80909), Lexunit(id\u003dl73371, orthform\u003dmessen, synset_id\u003ds51944), Lexunit(id\u003dl85100, orthform\u003dkassieren, synset_id\u003ds60545), Lexunit(id\u003dl75433, orthform\u003daussöhnen, synset_id\u003ds53436), Lexunit(id\u003dl75565, orthform\u003dverschaffen, synset_id\u003ds53535), Lexunit(id\u003dl110114, orthform\u003doffenstehen, synset_id\u003ds81487), Lexunit(id\u003dl73326, orthform\u003dniederlassen, synset_id\u003ds51911), Lexunit(id\u003dl76347, orthform\u003dreüssieren, synset_id\u003ds54104), Lexunit(id\u003dl85426, orthform\u003dauffrischen, synset_id\u003ds60790), Lexunit(id\u003dl81654, orthform\u003dschiffen, synset_id\u003ds57985), Lexunit(id\u003dl82934, orthform\u003dplissieren, synset_id\u003ds58914), Lexunit(id\u003dl75109, orthform\u003dverlassen, synset_id\u003ds53201), Lexunit(id\u003dl79037, orthform\u003derpressen, synset_id\u003ds56048), Lexunit(id\u003dl92806, orthform\u003dhinaufführen, synset_id\u003ds66980), Lexunit(id\u003dl82475, orthform\u003dschnüffeln, synset_id\u003ds58567), Lexunit(id\u003dl85101, orthform\u003deinkassieren, synset_id\u003ds60545), Lexunit(id\u003dl126501, orthform\u003dpassen, synset_id\u003ds94641), Lexunit(id\u003dl79334, orthform\u003dkläffen, synset_id\u003ds56267), Lexunit(id\u003dl139893, orthform\u003däffen, synset_id\u003ds52974), Lexunit(id\u003dl80569, orthform\u003dausstreichen, synset_id\u003ds57175), Lexunit(id\u003dl82480, orthform\u003dbeschnüffeln, synset_id\u003ds58568), Lexunit(id\u003dl79563, orthform\u003dbefassen, synset_id\u003ds56443), Lexunit(id\u003dl80153, orthform\u003dlosschnallen, synset_id\u003ds56887), Lexunit(id\u003dl92772, orthform\u003dhinausschießen, synset_id\u003ds66950), Lexunit(id\u003dl75595, orthform\u003dpassen, synset_id\u003ds53556), Lexunit(id\u003dl160942, orthform\u003dherausschieben, synset_id\u003ds60780), Lexunit(id\u003dl129406, orthform\u003drasseln, synset_id\u003ds97126), Lexunit(id\u003dl83131, orthform\u003dadressieren, synset_id\u003ds59067), Lexunit(id\u003dl85522, orthform\u003daussondern, synset_id\u003ds60867), Lexunit(id\u003dl107127, orthform\u003dherausschießen, synset_id\u003ds66950), Lexunit(id\u003dl85183, orthform\u003dfortschaffen, synset_id\u003ds60605), Lexunit(id\u003dl145172, orthform\u003daussprechen, synset_id\u003ds109421), Lexunit(id\u003dl139836, orthform\u003dzusammenraffen, synset_id\u003ds105239), Lexunit(id\u003dl85094, orthform\u003dnachlassen, synset_id\u003ds60542), Lexunit(id\u003dl85413, orthform\u003dhinausschieben, synset_id\u003ds60780), Lexunit(id\u003dl81304, orthform\u003dausströmen, synset_id\u003ds57741), Lexunit(id\u003dl111674, orthform\u003dherausströmen, synset_id\u003ds82784), Lexunit(id\u003dl81249, orthform\u003dpassieren, synset_id\u003ds57694), Lexunit(id\u003dl82499, orthform\u003dpfeffern, synset_id\u003ds58584), Lexunit(id\u003dl156562, orthform\u003daufklaffen, synset_id\u003ds81209), Lexunit(id\u003dl80160, orthform\u003dlosschrauben, synset_id\u003ds56892), Lexunit(id\u003dl75567, orthform\u003dbeschaffen, synset_id\u003ds53536), Lexunit(id\u003dl155511, orthform\u003dhinausschmuggeln, synset_id\u003ds117857), Lexunit(id\u003dl80795, orthform\u003dverschiffen, synset_id\u003ds57348), Lexunit(id\u003dl145162, orthform\u003dausspannen, synset_id\u003ds109411), Lexunit(id\u003dl74117, orthform\u003dfassen, synset_id\u003ds52502), Lexunit(id\u003dl78639, orthform\u003daussprechen, synset_id\u003ds55742), Lexunit(id\u003dl74710, orthform\u003dvergessen, synset_id\u003ds52927), Lexunit(id\u003dl85527, orthform\u003daussortieren, synset_id\u003ds60871), Lexunit(id\u003dl82140, orthform\u003dWasserverb, synset_id\u003ds58323), Lexunit(id\u003dl78998, orthform\u003dverbessern, synset_id\u003ds56017), Lexunit(id\u003dl129387, orthform\u003draffen, synset_id\u003ds97110), Lexunit(id\u003dl160714, orthform\u003dhinausströmen, synset_id\u003ds82785), Lexunit(id\u003dl109763, orthform\u003dauseinanderklaffen, synset_id\u003ds81209), Lexunit(id\u003dl145144, orthform\u003dausschreiben, synset_id\u003ds109393), Lexunit(id\u003dl85128, orthform\u003dentlassen, synset_id\u003ds60570), Lexunit(id\u003dl80928, orthform\u003dumfassen, synset_id\u003ds57449), Lexunit(id\u003dl73295, orthform\u003daussehen, synset_id\u003ds51894), Lexunit(id\u003dl79224, orthform\u003dausschelten, synset_id\u003ds56189), Lexunit(id\u003dl79692, orthform\u003dbewaffnen, synset_id\u003ds56548), Lexunit(id\u003dl82215, orthform\u003daufflackern, synset_id\u003ds58383), Lexunit(id\u003dl104144, orthform\u003dausschenken, synset_id\u003ds76398), Lexunit(id\u003dl145163, orthform\u003dausspannen, synset_id\u003ds109412), Lexunit(id\u003dl111675, orthform\u003dherausströmen, synset_id\u003ds82785), Lexunit(id\u003dl83680, orthform\u003dnässen, synset_id\u003ds59484), Lexunit(id\u003dl82308, orthform\u003dtreffen, synset_id\u003ds58458), Lexunit(id\u003dl85129, orthform\u003dfreilassen, synset_id\u003ds60570), Lexunit(id\u003dl78647, orthform\u003daussprechen, synset_id\u003ds55748), Lexunit(id\u003dl74718, orthform\u003dfassen, synset_id\u003ds52934), Lexunit(id\u003dl109765, orthform\u003dauseinanderklaffen, synset_id\u003ds81210), Lexunit(id\u003dl159829, orthform\u003dherausschreien, synset_id\u003ds121388), Lexunit(id\u003dl77598, orthform\u003dfassen, synset_id\u003ds54994), Lexunit(id\u003dl73737, orthform\u003doffenlassen, synset_id\u003ds108968), Lexunit(id\u003dl80182, orthform\u003dlosschlagen, synset_id\u003ds56906), Lexunit(id\u003dl145161, orthform\u003daussetzen, synset_id\u003ds109410), Lexunit(id\u003dl78611, orthform\u003dauslassen, synset_id\u003ds55722), Lexunit(id\u003dl79225, orthform\u003dausschimpfen, synset_id\u003ds56189), Lexunit(id\u003dl83681, orthform\u003dnass werden, synset_id\u003ds59484), Lexunit(id\u003dl78603, orthform\u003doffenbaren, synset_id\u003ds55716), Lexunit(id\u003dl108544, orthform\u003dausspringen, synset_id\u003ds80161), Lexunit(id\u003dl82672, orthform\u003dLicht aussenden, synset_id\u003ds58714), Lexunit(id\u003dl85523, orthform\u003dausscheiden, synset_id\u003ds60868), Lexunit(id\u003dl160474, orthform\u003dhermüssen, synset_id\u003ds121923), Lexunit(id\u003dl116579, orthform\u003daussaugen, synset_id\u003ds86593), Lexunit(id\u003dl82288, orthform\u003dtreffen, synset_id\u003ds58442), Lexunit(id\u003dl142052, orthform\u003dpressieren, synset_id\u003ds106894), Lexunit(id\u003dl74132, orthform\u003dausspannen, synset_id\u003ds52513), Lexunit(id\u003dl81817, orthform\u003dverlassen, synset_id\u003ds58086), Lexunit(id\u003dl160943, orthform\u003dhinausschreien, synset_id\u003ds121388), Lexunit(id\u003dl77929, orthform\u003dbewusst machen, synset_id\u003ds55225), Lexunit(id\u003dl73581, orthform\u003dmissen, synset_id\u003ds52108), Lexunit(id\u003dl144765, orthform\u003danlassen, synset_id\u003ds109095), Lexunit(id\u003dl79358, orthform\u003dquasseln, synset_id\u003ds56280), Lexunit(id\u003dl108545, orthform\u003dausscheren, synset_id\u003ds80162), Lexunit(id\u003dl75279, orthform\u003dschaffen, synset_id\u003ds53325), Lexunit(id\u003dl145179, orthform\u003dausstoßen, synset_id\u003ds109427), Lexunit(id\u003dl74091, orthform\u003daussteuern, synset_id\u003ds52482), Lexunit(id\u003dl83683, orthform\u003dnässen, synset_id\u003ds59485), Lexunit(id\u003dl109385, orthform\u003dlassen, synset_id\u003ds80906), Lexunit(id\u003dl83078, orthform\u003dschraffieren, synset_id\u003ds59026), Lexunit(id\u003dl141856, orthform\u003dweglassen, synset_id\u003ds106742), Lexunit(id\u003dl77798, orthform\u003dverbessern, synset_id\u003ds55145), Lexunit(id\u003dl75131, orthform\u003düberlassen, synset_id\u003ds53214), Lexunit(id\u003dl94516, orthform\u003dherausschälen, synset_id\u003ds68441), Lexunit(id\u003dl73585, orthform\u003dpassen, synset_id\u003ds52111), Lexunit(id\u003dl80646, orthform\u003dausschneiden, synset_id\u003ds57235), Lexunit(id\u003dl78810, orthform\u003dglossieren, synset_id\u003ds55867), Lexunit(id\u003dl82163, orthform\u003daufflammen, synset_id\u003ds58341), Lexunit(id\u003dl73624, orthform\u003dherausstellen, synset_id\u003ds52143), Lexunit(id\u003dl83615, orthform\u003dausspachteln, synset_id\u003ds59432), Lexunit(id\u003dl76111, orthform\u003dausschalten, synset_id\u003ds53940), Lexunit(id\u003dl83685, orthform\u003dnass machen, synset_id\u003ds59485), Lexunit(id\u003dl93297, orthform\u003dausstrecken, synset_id\u003ds67400), Lexunit(id\u003dl75147, orthform\u003dpoussieren, synset_id\u003ds53227), Lexunit(id\u003dl73368, orthform\u003dbeziffern, synset_id\u003ds51941), Lexunit(id\u003dl112411, orthform\u003dverpassen, synset_id\u003ds83352), Lexunit(id\u003dl77799, orthform\u003dbessern, synset_id\u003ds55145), Lexunit(id\u003dl143209, orthform\u003deinlassen, synset_id\u003ds107826), Lexunit(id\u003dl75487, orthform\u003dausschließen, synset_id\u003ds53476), Lexunit(id\u003dl92807, orthform\u003dhinaufführen, synset_id\u003ds66981), Lexunit(id\u003dl85444, orthform\u003draffinieren, synset_id\u003ds60803), Lexunit(id\u003dl157872, orthform\u003daussingen, synset_id\u003ds119750), Lexunit(id\u003dl77027, orthform\u003dblessieren, synset_id\u003ds54555), Lexunit(id\u003dl163592, orthform\u003drausstellen, synset_id\u003ds52143), Lexunit(id\u003dl160718, orthform\u003dhinmüssen, synset_id\u003ds122120), Lexunit(id\u003dl83513, orthform\u003dlassen, synset_id\u003ds59354), Lexunit(id\u003dl82884, orthform\u003dabfassen, synset_id\u003ds58874), Lexunit(id\u003dl163578, orthform\u003doffenliegen, synset_id\u003ds124514), Lexunit(id\u003dl77671, orthform\u003dmissachten, synset_id\u003ds55047), Lexunit(id\u003dl73763, orthform\u003daussagen, synset_id\u003ds52244), Lexunit(id\u003dl85366, orthform\u003döffnen, synset_id\u003ds60743), Lexunit(id\u003dl82668, orthform\u003dmuffeln, synset_id\u003ds58712), Lexunit(id\u003dl111821, orthform\u003dabgeschlossene Zustandsveränderung, synset_id\u003ds82907), Lexunit(id\u003dl80487, orthform\u003dfassen, synset_id\u003ds57113), Lexunit(id\u003dl163430, orthform\u003dheranmüssen, synset_id\u003ds124254), Lexunit(id\u003dl74041, orthform\u003dofferieren, synset_id\u003ds52445), Lexunit(id\u003dl83698, orthform\u003dbettnässen, synset_id\u003ds59493), Lexunit(id\u003dl76899, orthform\u003dgrimassieren, synset_id\u003ds54464), Lexunit(id\u003dl83507, orthform\u003dunterlassen, synset_id\u003ds59350), Lexunit(id\u003dl155710, orthform\u003dherauspressen, synset_id\u003ds118023), Lexunit(id\u003dl79189, orthform\u003dmissionieren, synset_id\u003ds56159), Lexunit(id\u003dl84654, orthform\u003dmassakrieren, synset_id\u003ds60218), Lexunit(id\u003dl75784, orthform\u003dherausstellen, synset_id\u003ds53689), Lexunit(id\u003dl157871, orthform\u003dausschwingen, synset_id\u003ds119749), Lexunit(id\u003dl83512, orthform\u003dbleiben lassen, synset_id\u003ds59354), Lexunit(id\u003dl111822, orthform\u003dabgeschlossene Zustandsveränderung, synset_id\u003ds82908), Lexunit(id\u003dl77319, orthform\u003dhoffen, synset_id\u003ds54774), Lexunit(id\u003dl86597, orthform\u003dmüffeln, synset_id\u003ds58712), Lexunit(id\u003dl163577, orthform\u003dmitessen, synset_id\u003ds124513), Lexunit(id\u003dl84987, orthform\u003dkoffeinieren, synset_id\u003ds60458), Lexunit(id\u003dl108289, orthform\u003dlockerlassen, synset_id\u003ds79951), Lexunit(id\u003dl155711, orthform\u003dabpressen, synset_id\u003ds118023), Lexunit(id\u003dl140772, orthform\u003dherausmüssen, synset_id\u003ds105924), Lexunit(id\u003dl83515, orthform\u003dsein lassen, synset_id\u003ds59354), Lexunit(id\u003dl85376, orthform\u003döffnen, synset_id\u003ds60750), Lexunit(id\u003dl85389, orthform\u003dabschaffen, synset_id\u003ds60762), Lexunit(id\u003dl160973, orthform\u003dzusammenlassen, synset_id\u003ds122340), Lexunit(id\u003dl129407, orthform\u003drasseln, synset_id\u003ds97127), Lexunit(id\u003dl140773, orthform\u003drausmüssen, synset_id\u003ds105924), Lexunit(id\u003dl81632, orthform\u003dchauffieren, synset_id\u003ds57969), Lexunit(id\u003dl82911, orthform\u003daufführen, synset_id\u003ds58897), Lexunit(id\u003dl112157, orthform\u003dfahren lassen, synset_id\u003ds106468), Lexunit(id\u003dl79566, orthform\u003dauffordern, synset_id\u003ds56446), Lexunit(id\u003dl79251, orthform\u003dhochleben lassen, synset_id\u003ds56206), Lexunit(id\u003dl77730, orthform\u003dassoziieren, synset_id\u003ds55089), Lexunit(id\u003dl82849, orthform\u003dausschmücken, synset_id\u003ds58852), Lexunit(id\u003dl85955, orthform\u003dmissbrauchen, synset_id\u003ds61192), Lexunit(id\u003dl78825, orthform\u003daussprechen, synset_id\u003ds55879), Lexunit(id\u003dl79930, orthform\u003dübertreffen, synset_id\u003ds56732), Lexunit(id\u003dl132492, orthform\u003dkassieren, synset_id\u003ds99614), Lexunit(id\u003dl89314, orthform\u003dlosschlagen, synset_id\u003ds63970), Lexunit(id\u003dl107556, orthform\u003doffenhalten, synset_id\u003ds79313), Lexunit(id\u003dl80519, orthform\u003dzusammenpressen, synset_id\u003ds57135), Lexunit(id\u003dl76803, orthform\u003dausschwitzen, synset_id\u003ds54405), Lexunit(id\u003dl74842, orthform\u003derfassen, synset_id\u003ds53008), Lexunit(id\u003dl109275, orthform\u003dhinauslassen, synset_id\u003ds80808), Lexunit(id\u003dl79081, orthform\u003doffenbaren, synset_id\u003ds56086), Lexunit(id\u003dl84688, orthform\u003dverbessern, synset_id\u003ds60242), Lexunit(id\u003dl112155, orthform\u003dfallen lassen, synset_id\u003ds106468), Lexunit(id\u003dl112413, orthform\u003dverpassen, synset_id\u003ds83354), Lexunit(id\u003dl78315, orthform\u003dzulassen, synset_id\u003ds55494), Lexunit(id\u003dl150525, orthform\u003dlosstürmen, synset_id\u003ds113652), Lexunit(id\u003dl142065, orthform\u003dpuffen, synset_id\u003ds106905), Lexunit(id\u003dl78780, orthform\u003dherausstellen, synset_id\u003ds55843), Lexunit(id\u003dl84464, orthform\u003dpassieren, synset_id\u003ds60075), Lexunit(id\u003dl113278, orthform\u003dverpressen, synset_id\u003ds84008), Lexunit(id\u003dl159832, orthform\u003dherausspielen, synset_id\u003ds121390), Lexunit(id\u003dl112280, orthform\u003dniederprasseln, synset_id\u003ds83243), Lexunit(id\u003dl78237, orthform\u003dneufassen, synset_id\u003ds55442), Lexunit(id\u003dl107132, orthform\u003ddurchmessen, synset_id\u003ds78965), Lexunit(id\u003dl112955, orthform\u003dzerlassen, synset_id\u003ds83776), Lexunit(id\u003dl158127, orthform\u003dbeiseitelassen, synset_id\u003ds119961), Lexunit(id\u003dl160427, orthform\u003dhineinfressen, synset_id\u003ds121886), Lexunit(id\u003dl80759, orthform\u003dfortschaffen, synset_id\u003ds57323), Lexunit(id\u003dl112400, orthform\u003derschnüffeln, synset_id\u003ds83341), Lexunit(id\u003dl157570, orthform\u003daufflattern, synset_id\u003ds119498), Lexunit(id\u003dl81841, orthform\u003dnotwassern, synset_id\u003ds58107), Lexunit(id\u003dl73734, orthform\u003ddurchlassen, synset_id\u003ds52221), Lexunit(id\u003dl77670, orthform\u003dauslassen, synset_id\u003ds55046), Lexunit(id\u003dl132348, orthform\u003dhineinpassen, synset_id\u003ds79967), Lexunit(id\u003dl75273, orthform\u003dtreffen, synset_id\u003ds53320), Lexunit(id\u003dl157934, orthform\u003ddurchfressen, synset_id\u003ds119802), Lexunit(id\u003dl162019, orthform\u003dhochmüssen, synset_id\u003ds123230), Lexunit(id\u003dl162051, orthform\u003dwiedereröffnen, synset_id\u003ds123252), Lexunit(id\u003dl80760, orthform\u003dwegschaffen, synset_id\u003ds57323), Lexunit(id\u003dl109277, orthform\u003dhinauffahren, synset_id\u003ds80810), Lexunit(id\u003dl83669, orthform\u003dverwässern, synset_id\u003ds59476), Lexunit(id\u003dl159311, orthform\u003dhindurchlassen, synset_id\u003ds52221), Lexunit(id\u003dl163420, orthform\u003dreinpassen, synset_id\u003ds79967), Lexunit(id\u003dl80865, orthform\u003daussetzen, synset_id\u003ds57401), Lexunit(id\u003dl84414, orthform\u003dverflüssigen, synset_id\u003ds60039), Lexunit(id\u003dl79963, orthform\u003dtreffen, synset_id\u003ds56750), Lexunit(id\u003dl78348, orthform\u003dklassifizieren, synset_id\u003ds55518), Lexunit(id\u003dl112284, orthform\u003dherunterprasseln, synset_id\u003ds83247), Lexunit(id\u003dl142151, orthform\u003dwissen, synset_id\u003ds106968), Lexunit(id\u003dl76847, orthform\u003dpissen, synset_id\u003ds54435), Lexunit(id\u003dl74239, orthform\u003dbeschaffen, synset_id\u003ds52585), Lexunit(id\u003dl79539, orthform\u003dveranlassen, synset_id\u003ds56423), Lexunit(id\u003dl79706, orthform\u003dentwaffnen, synset_id\u003ds56556), Lexunit(id\u003dl162020, orthform\u003dhochmüssen, synset_id\u003ds123231), Lexunit(id\u003dl161663, orthform\u003dwiederveröffentlichen, synset_id\u003ds122927), Lexunit(id\u003dl82658, orthform\u003dkläffen, synset_id\u003ds58704), Lexunit(id\u003dl79958, orthform\u003dausspielen, synset_id\u003ds56747), Lexunit(id\u003dl163258, orthform\u003drausschneiden, synset_id\u003ds80665), Lexunit(id\u003dl162320, orthform\u003dkahlfressen, synset_id\u003ds123480), Lexunit(id\u003dl76848, orthform\u003dschiffen, synset_id\u003ds54435), Lexunit(id\u003dl74240, orthform\u003danschaffen, synset_id\u003ds52585), Lexunit(id\u003dl73739, orthform\u003düberlassen, synset_id\u003ds52224), Lexunit(id\u003dl75268, orthform\u003dzusammentreffen, synset_id\u003ds53316), Lexunit(id\u003dl107133, orthform\u003ddurchmessen, synset_id\u003ds78966), Lexunit(id\u003dl80480, orthform\u003danfassen, synset_id\u003ds57108), Lexunit(id\u003dl78229, orthform\u003dermessen, synset_id\u003ds55438), Lexunit(id\u003dl109108, orthform\u003dherausschneiden, synset_id\u003ds80665), Lexunit(id\u003dl163243, orthform\u003dranmüssen, synset_id\u003ds124254), Lexunit(id\u003dl77640, orthform\u003dfressen, synset_id\u003ds55022), Lexunit(id\u003dl79072, orthform\u003deröffnen, synset_id\u003ds56078), Lexunit(id\u003dl140171, orthform\u003dlosschießen, synset_id\u003ds57842), Lexunit(id\u003dl76801, orthform\u003dpressen, synset_id\u003ds54403), Lexunit(id\u003dl145186, orthform\u003dausströmen, synset_id\u003ds114817), Lexunit(id\u003dl83697, orthform\u003deinnässen, synset_id\u003ds59493), Lexunit(id\u003dl94170, orthform\u003dprofessionalisieren, synset_id\u003ds68138), Lexunit(id\u003dl144537, orthform\u003dprasseln, synset_id\u003ds108929), Lexunit(id\u003dl80484, orthform\u003dloslassen, synset_id\u003ds57110), Lexunit(id\u003dl75836, orthform\u003ddifferenzieren, synset_id\u003ds53733), Lexunit(id\u003dl109386, orthform\u003dlassen, synset_id\u003ds80907), Lexunit(id\u003dl73735, orthform\u003dzulassen, synset_id\u003ds52222), Lexunit(id\u003dl111630, orthform\u003dlossagen, synset_id\u003ds82750), Lexunit(id\u003dl145170, orthform\u003dausspielen, synset_id\u003ds109419), Lexunit(id\u003dl107142, orthform\u003danmessen, synset_id\u003ds78974), Lexunit(id\u003dl78203, orthform\u003dzumessen, synset_id\u003ds55417), Lexunit(id\u003dl75054, orthform\u003dhinterlassen, synset_id\u003ds53157), Lexunit(id\u003dl85155, orthform\u003dwegschaffen, synset_id\u003ds60585), Lexunit(id\u003dl76855, orthform\u003dmüssen, synset_id\u003ds54438), Lexunit(id\u003dl110632, orthform\u003dmissinterpretieren, synset_id\u003ds54976), Lexunit(id\u003dl108543, orthform\u003dausspringen, synset_id\u003ds80160), Lexunit(id\u003dl82927, orthform\u003dausschalen, synset_id\u003ds58908), Lexunit(id\u003dl142051, orthform\u003dpressen, synset_id\u003ds106893), Lexunit(id\u003dl131888, orthform\u003dherausschälen, synset_id\u003ds99108), Lexunit(id\u003dl74475, orthform\u003dnachlassen, synset_id\u003ds52760), Lexunit(id\u003dl131197, orthform\u003dherausmüssen, synset_id\u003ds98513), Lexunit(id\u003dl93011, orthform\u003dmissfallen, synset_id\u003ds67162), Lexunit(id\u003dl76520, orthform\u003düberlassen, synset_id\u003ds54224), Lexunit(id\u003dl73348, orthform\u003dklaffen, synset_id\u003ds51925), Lexunit(id\u003dl145181, orthform\u003dausstrahlen, synset_id\u003ds109429), Lexunit(id\u003dl78122, orthform\u003daffizieren, synset_id\u003ds55375), Lexunit(id\u003dl76022, orthform\u003dvernachlässigen, synset_id\u003ds53884), Lexunit(id\u003dl78497, orthform\u003dausmessen, synset_id\u003ds55630), Lexunit(id\u003dl79885, orthform\u003ddeklassieren, synset_id\u003ds56699), Lexunit(id\u003dl78503, orthform\u003dvermessen, synset_id\u003ds55636), Lexunit(id\u003dl85372, orthform\u003deinlassen, synset_id\u003ds60747), Lexunit(id\u003dl77576, orthform\u003dmissdeuten, synset_id\u003ds54976), Lexunit(id\u003dl145039, orthform\u003dausfressen, synset_id\u003ds109303), Lexunit(id\u003dl112861, orthform\u003dverquasseln, synset_id\u003ds83704), Lexunit(id\u003dl131198, orthform\u003drausmüssen, synset_id\u003ds98513), Lexunit(id\u003dl80389, orthform\u003dauffangen, synset_id\u003ds57044), Lexunit(id\u003dl142064, orthform\u003dpuffen, synset_id\u003ds106904), Lexunit(id\u003dl76528, orthform\u003dbetreffen, synset_id\u003ds54227), Lexunit(id\u003dl77520, orthform\u003dfassen, synset_id\u003ds54934), Lexunit(id\u003dl142007, orthform\u003dpassen, synset_id\u003ds106857), Lexunit(id\u003dl109640, orthform\u003dbewässern, synset_id\u003ds81118), Lexunit(id\u003dl142016, orthform\u003dpfeffern, synset_id\u003ds106865), Lexunit(id\u003dl80530, orthform\u003dküssen, synset_id\u003ds57145), Lexunit(id\u003dl145182, orthform\u003dausstreichen, synset_id\u003ds109430), Lexunit(id\u003dl74814, orthform\u003dherauslassen, synset_id\u003ds52995), Lexunit(id\u003dl77204, orthform\u003ddressen, synset_id\u003ds54691), Lexunit(id\u003dl78133, orthform\u003ddressieren, synset_id\u003ds55384), Lexunit(id\u003dl111301, orthform\u003dverflüssigen, synset_id\u003ds82488), Lexunit(id\u003dl145111, orthform\u003daussaufen, synset_id\u003ds109362), Lexunit(id\u003dl82889, orthform\u003dausstellen, synset_id\u003ds58878), Lexunit(id\u003dl84854, orthform\u003dauslassen, synset_id\u003ds60368), Lexunit(id\u003dl130744, orthform\u003dglossieren, synset_id\u003ds98160), Lexunit(id\u003dl79608, orthform\u003dveröffentlichen, synset_id\u003ds56481), Lexunit(id\u003dl159833, orthform\u003dherausspritzen, synset_id\u003ds121391), Lexunit(id\u003dl141908, orthform\u003ddressieren, synset_id\u003ds106785), Lexunit(id\u003dl74815, orthform\u003drauslassen, synset_id\u003ds52995), Lexunit(id\u003dl84855, orthform\u003dweglassen, synset_id\u003ds60368), Lexunit(id\u003dl76734, orthform\u003dausschlüpfen, synset_id\u003ds54356), Lexunit(id\u003dl83687, orthform\u003dwässern, synset_id\u003ds59486), Lexunit(id\u003dl73736, orthform\u003dauflassen, synset_id\u003ds52223), Lexunit(id\u003dl75472, orthform\u003dassimilieren, synset_id\u003ds53464), Lexunit(id\u003dl81352, orthform\u003dausschwärmen, synset_id\u003ds57776), Lexunit(id\u003dl139822, orthform\u003dzusammenfassen, synset_id\u003ds82558), Lexunit(id\u003dl80518, orthform\u003dpressen, synset_id\u003ds57134), Lexunit(id\u003dl79826, orthform\u003deinkesseln, synset_id\u003ds56646), Lexunit(id\u003dl81394, orthform\u003dschluffen, synset_id\u003ds57800), Lexunit(id\u003dl85773, orthform\u003düberfressen, synset_id\u003ds61054), Lexunit(id\u003dl159837, orthform\u003dherausstrecken, synset_id\u003ds121395), Lexunit(id\u003dl80516, orthform\u003dmassieren, synset_id\u003ds57133), Lexunit(id\u003dl142148, orthform\u003dwässern, synset_id\u003ds106965), Lexunit(id\u003dl85287, orthform\u003dentkoffeinieren, synset_id\u003ds60688), Lexunit(id\u003dl110621, orthform\u003dverschusseln, synset_id\u003ds52719), Lexunit(id\u003dl84856, orthform\u003daussparen, synset_id\u003ds60368), Lexunit(id\u003dl78536, orthform\u003dfassen, synset_id\u003ds55660), Lexunit(id\u003dl112876, orthform\u003dverquasseln, synset_id\u003ds83705), Lexunit(id\u003dl141502, orthform\u003dbosseln, synset_id\u003ds106473), Lexunit(id\u003dl78040, orthform\u003ddifferenzieren, synset_id\u003ds55311), Lexunit(id\u003dl78807, orthform\u003dlossprechen, synset_id\u003ds55864), Lexunit(id\u003dl73831, orthform\u003düberlassen, synset_id\u003ds52291), Lexunit(id\u003dl85822, orthform\u003düberfressen, synset_id\u003ds61093), Lexunit(id\u003dl80024, orthform\u003dstraffen, synset_id\u003ds56796), Lexunit(id\u003dl160689, orthform\u003dhinausstrecken, synset_id\u003ds121395), Lexunit(id\u003dl77624, orthform\u003dbewusst werden, synset_id\u003ds55013), Lexunit(id\u003dl111699, orthform\u003dbewenden lassen, synset_id\u003ds82807), Lexunit(id\u003dl73832, orthform\u003dlassen, synset_id\u003ds52291), Lexunit(id\u003dl81732, orthform\u003dniederlassen, synset_id\u003ds58033), Lexunit(id\u003dl91060, orthform\u003daussenden, synset_id\u003ds65472), Lexunit(id\u003dl140183, orthform\u003dmassieren, synset_id\u003ds105474), Lexunit(id\u003dl77722, orthform\u003dfokussieren, synset_id\u003ds55085), Lexunit(id\u003dl157839, orthform\u003dausschwenken, synset_id\u003ds119722), Lexunit(id\u003dl78518, orthform\u003dschaffen, synset_id\u003ds55649), Lexunit(id\u003dl77548, orthform\u003daussetzen, synset_id\u003ds54958), Lexunit(id\u003dl74991, orthform\u003dmissachten, synset_id\u003ds53114), Lexunit(id\u003dl82902, orthform\u003dterrassieren, synset_id\u003ds58889), Lexunit(id\u003dl85772, orthform\u003dwegfressen, synset_id\u003ds61053), Lexunit(id\u003dl144530, orthform\u003dmuffeln, synset_id\u003ds108924), Lexunit(id\u003dl112409, orthform\u003dverpassen, synset_id\u003ds83350), Lexunit(id\u003dl80180, orthform\u003dlossägen, synset_id\u003ds56905), Lexunit(id\u003dl79597, orthform\u003dzukommen lassen, synset_id\u003ds56471), Lexunit(id\u003dl78201, orthform\u003dbeimessen, synset_id\u003ds55417), Lexunit(id\u003dl85225, orthform\u003dentwässern, synset_id\u003ds60634), Lexunit(id\u003dl73723, orthform\u003daussetzen, synset_id\u003ds52212), Lexunit(id\u003dl73345, orthform\u003doffenstehen, synset_id\u003ds51923), Lexunit(id\u003dl82883, orthform\u003dverfassen, synset_id\u003ds58874), Lexunit(id\u003dl78829, orthform\u003daussprechen, synset_id\u003ds55883), Lexunit(id\u003dl77574, orthform\u003dmissverstehen, synset_id\u003ds54975), Lexunit(id\u003dl77599, orthform\u003derfassen, synset_id\u003ds54995), Lexunit(id\u003dl157870, orthform\u003dausschwingen, synset_id\u003ds119748), Lexunit(id\u003dl139877, orthform\u003dzutreffen, synset_id\u003ds105268), Lexunit(id\u003dl75989, orthform\u003dbevorschussen, synset_id\u003ds53861), Lexunit(id\u003dl83134, orthform\u003dausschildern, synset_id\u003ds59069), Lexunit(id\u003dl139923, orthform\u003döffnen, synset_id\u003ds106996), Lexunit(id\u003dl85404, orthform\u003doffenlegen, synset_id\u003ds60774)}\n\nFound  929 verbs with double s or double f in GermaNet \n An example of such is: Lexunit(id\u003dl161058, orthform\u003dvorlassen, synset_id\u003ds122408) \n Another example is : Lexunit(id\u003dl78492, orthform\u003dmessen, synset_id\u003ds55626)\n"
          ],
          "output_type": "stream"
        }
      ],
      "source": "# extract all words that end with \u0027kuchen\u0027\nfilterconfig \u003d Filterconfig(\u0027.*kuchen\u0027, regex\u003dTrue)\nfilterconfig.word_categories \u003d [WordCategory.nomen]\nresult \u003d filterconfig.filter_lexunits(germanet)\nprint(\"Found  %d words that end with \u0027kuchen\u0027 in GermaNet \\n An example of such is: %s \\n Another example is : %s\"\n      % (len(result), result.pop(), result.pop()))\n\n# extract all words that contain a white space or a hyphen\nfilterconfig \u003d Filterconfig(\u0027.+(\\s|-).+\u0027, regex\u003dTrue)\nfilterconfig.word_categories \u003d [WordCategory.nomen]\nresult \u003d filterconfig.filter_lexunits(germanet)\nprint(\"\\nFound  %d multiword expressions with whitespace or hypen in GermaNet \\n An example of such is: %s \\n Another example is : %s\"\n      % (len(result), result.pop(), result.pop()))\n\n# extract all verbs that contain exactly two \u0027ss\u0027 or two \u0027ff\u0027\nfilterconfig \u003d Filterconfig(\u0027.+(f{2,}|s{2,}).+\u0027, regex\u003dTrue)\nfilterconfig.word_categories \u003d [WordCategory.verben]\nresult \u003d filterconfig.filter_lexunits(germanet)\nprint(\"\\nFound  %d verbs with double s or double f in GermaNet \\n An example of such is: %s \\n Another example is : %s\"\n      % (len(result), result.pop(), result.pop()))\n",
      "metadata": {
        "pycharm": {
          "metadata": false,
          "name": "#%%\n",
          "is_executing": false
        }
      }
    }
  ],
  "metadata": {
    "language_info": {
      "codemirror_mode": {
        "name": "ipython",
        "version": 2
      },
      "file_extension": ".py",
      "mimetype": "text/x-python",
      "name": "python",
      "nbconvert_exporter": "python",
      "pygments_lexer": "ipython2",
      "version": "2.7.6"
    },
    "kernelspec": {
      "name": "pycharm-57464f9",
      "language": "python",
      "display_name": "PyCharm (PyGermanet)"
    },
    "stem_cell": {
      "cell_type": "raw",
      "source": "",
      "metadata": {
        "pycharm": {
          "metadata": false
        }
      }
    }
  },
  "nbformat": 4,
  "nbformat_minor": 0
}