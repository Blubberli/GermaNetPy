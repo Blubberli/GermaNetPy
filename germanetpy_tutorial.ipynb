{
  "cells": [
    {
      "cell_type": "markdown",
      "source": "# PyGermanet Tutorial\n\nThe following tutorial shows some examples of how to use the Python API for Germanet. Germanet is a lexical-sematic \nnet that relates German nouns, verbs and adjectives semantically by grouping lexical units that express\nthe same concept into synsets. \n\nWith the Python API we can extract synsets and lexical units for a given word and inspect different properties and related\nsynsets / lexunits. \n",
      "metadata": {
        "pycharm": {
          "metadata": false,
          "name": "#%% md\n"
        }
      }
    },
    {
      "cell_type": "code",
      "execution_count": 1,
      "outputs": [
        {
          "name": "stderr",
          "text": [
            "\rLoad GermaNet data...:   0%|          | 0/100 [00:00\u003c?, ?it/s]",
            "\rLoad GermaNet data...:   4%|▎         | 3.7037037037037037/100 [00:00\u003c00:05, 18.56it/s]",
            "\rLoad GermaNet data...:   7%|▋         | 7.407407407407407/100 [00:00\u003c00:04, 18.73it/s] ",
            "\rLoad GermaNet data...:   9%|▉         | 9.25925925925926/100 [00:00\u003c00:05, 16.17it/s] ",
            "\rLoad GermaNet data...:  15%|█▍        | 14.814814814814813/100 [00:00\u003c00:04, 18.63it/s]",
            "\rLoad GermaNet data...:  26%|██▌       | 25.92592592592592/100 [00:00\u003c00:03, 23.35it/s] ",
            "\rLoad GermaNet data...:  30%|██▉       | 29.629629629629623/100 [00:01\u003c00:07,  9.80it/s]",
            "\rLoad GermaNet data...:  33%|███▎      | 33.33333333333333/100 [00:02\u003c00:07,  9.06it/s] ",
            "\rLoad GermaNet data...:  37%|███▋      | 37.03703703703704/100 [00:02\u003c00:06,  9.91it/s]",
            "\rLoad GermaNet data...:  44%|████▍     | 44.44444444444446/100 [00:03\u003c00:05,  9.97it/s]",
            "\rLoad GermaNet data...:  48%|████▊     | 48.14814814814817/100 [00:03\u003c00:05,  9.73it/s]",
            "\rLoad GermaNet data...:  52%|█████▏    | 51.851851851851876/100 [00:03\u003c00:03, 12.12it/s]",
            "\rLoad GermaNet data...:  54%|█████▎    | 53.70370370370373/100 [00:04\u003c00:06,  6.94it/s] ",
            "\rLoad GermaNet data...:  59%|█████▉    | 59.259259259259295/100 [00:04\u003c00:04,  9.04it/s]",
            "\rLoad GermaNet data...:  65%|██████▍   | 64.81481481481485/100 [00:04\u003c00:02, 11.98it/s] ",
            "\rLoad GermaNet data...:  69%|██████▊   | 68.51851851851855/100 [00:05\u003c00:03,  9.30it/s]",
            "\rLoad GermaNet data...:  72%|███████▏  | 72.22222222222224/100 [00:05\u003c00:02, 11.93it/s]",
            "\rLoad GermaNet data...:  76%|███████▌  | 75.92592592592594/100 [00:05\u003c00:01, 13.95it/s]",
            "\rLoad GermaNet data...:  83%|████████▎ | 83.33333333333333/100 [00:05\u003c00:00, 17.35it/s]",
            "\rLoad GermaNet data...:  91%|█████████ | 90.74074074074072/100 [00:05\u003c00:00, 22.20it/s]",
            "\rLoad GermaNet data...:  96%|█████████▋| 96.29629629629626/100 [00:07\u003c00:00, 10.22it/s]",
            "\rLoad GermaNet data...: 100%|█████████▉| 99.99999999999996/100 [00:07\u003c00:00, 12.81it/s]",
            "\rLoad GermaNet data...: 100%|█████████▉| 99.99999999999996/100 [00:08\u003c00:00, 11.82it/s]",
            "\n\rLoad Wictionary data...:   0%|          | 0/100 [00:00\u003c?, ?it/s]",
            "\rLoad Wictionary data...:  33%|███▎      | 33.333333333333336/100 [00:00\u003c00:00, 206.09it/s]",
            "\rLoad Wictionary data...:  67%|██████▋   | 66.66666666666667/100 [00:00\u003c00:00, 204.73it/s] ",
            "\rLoad Wictionary data...: 100%|██████████| 100.0/100 [00:00\u003c00:00, 257.26it/s]            ",
            "\n\rLoad Ili records...:   0%|          | 0/100 [00:00\u003c?, ?it/s]",
            "\rLoad Ili records...: 100%|██████████| 100.0/100 [00:00\u003c00:00, 280.65it/s]",
            "\rLoad Ili records...: 100%|██████████| 100.0/100 [00:00\u003c00:00, 280.06it/s]",
            "\n"
          ],
          "output_type": "stream"
        }
      ],
      "source": "from germanetpy.germanet import Germanet\nfrom germanetpy.frames import Frames\nfrom germanetpy.filterconfig import Filterconfig\nfrom germanetpy.synset import WordCategory, WordClass\ngermanet \u003d Germanet(\"data\")",
      "metadata": {
        "pycharm": {
          "metadata": false,
          "name": "#%%\n",
          "is_executing": false
        }
      }
    },
    {
      "cell_type": "markdown",
      "source": "## How to inspect information for a single word input\n\n### Inspect synsets\n\nLet\u0027s consider the input word *Fußball* \u0027football\u0027. The following shows how to extract all synsets given an input wordform.\nMany words are ambiguous and thus, *Fußball* belongs to two synsets. The string representations include the lexical units, which can be helpful when you want to select\na specific meaning for a given word. In this case, let\u0027s say we are interested in the second meaning of\n*Fußball*, namely the game and not the ball.\n",
      "metadata": {
        "pycharm": {
          "metadata": false,
          "name": "#%% md\n"
        }
      }
    },
    {
      "cell_type": "code",
      "execution_count": 2,
      "outputs": [
        {
          "name": "stdout",
          "text": [
            "The input has 2 senses \nSynset(id\u003ds21624, lexunits\u003dFußballspiel, Fußball, Fußballsport)\nSynset(id\u003ds7944, lexunits\u003dFußball)\n"
          ],
          "output_type": "stream"
        }
      ],
      "source": "fussball_synsets \u003d germanet.get_synsets_by_orthform(\"Fußball\")\n# the lengths of the retrieved list is equal to the number of possible senses for a word, in this case 2\nprint(\"The input has %d senses \" % len(fussball_synsets))\nfor synset in fussball_synsets:\n    print(synset)\nfussball_synset \u003d germanet.get_synset_by_id(\u0027s21624\u0027)\n",
      "metadata": {
        "pycharm": {
          "metadata": false,
          "name": "#%% \n",
          "is_executing": false
        }
      }
    },
    {
      "cell_type": "markdown",
      "source": "Every synset has a number of properties that can be extracted. Each synset has a unique id, which is the character\n\u0027s\u0027 followed by a number. A synset can have one of three possible word categories (verb, noun, adjective). \nFor each of the word categories the semantic space is divided into a number of semantic fields. (e.g *Besitz*,\n*Kommunikation*, *Geschehen*...). \n",
      "metadata": {
        "pycharm": {
          "metadata": false,
          "name": "#%% md\n"
        }
      }
    },
    {
      "cell_type": "code",
      "execution_count": 3,
      "outputs": [
        {
          "name": "stdout",
          "text": [
            "The synset id is s21624; the synset belongs to the word category WordCategory.nomen \n and to the semantic field WordClass.Geschehen.\n"
          ],
          "output_type": "stream"
        }
      ],
      "source": "id \u003d fussball_synset.id\nword_category \u003d fussball_synset.word_category\nsemantic_field \u003d fussball_synset.word_class\nprint(\"The synset id is %s; the synset belongs to the word category %s \\n and to the semantic field %s.\" %\n      (id, word_category, semantic_field))\n",
      "metadata": {
        "pycharm": {
          "metadata": false,
          "name": "#%%\n",
          "is_executing": false
        }
      }
    },
    {
      "cell_type": "markdown",
      "source": "Synsets are related to other synsets via conceptual relations. The most important relation is the hypernymy\n/ hyponymy relation. Direct hypernyms of a synset (one level above) and hyponyms (one level below) can be accessed through a separate field, all conceptually related \nsynsets are stored in the relations field.\n",
      "metadata": {
        "pycharm": {
          "metadata": false,
          "name": "#%% md\n"
        }
      }
    },
    {
      "cell_type": "code",
      "execution_count": 4,
      "outputs": [
        {
          "name": "stdout",
          "text": [
            "{Synset(id\u003ds21606, lexunits\u003dBallspiel, Ballsport, Ballsportart)}\n{Synset(id\u003ds69685, lexunits\u003dAmateurfußball), Synset(id\u003ds137475, lexunits\u003dKlubfußball), Synset(id\u003ds79925, lexunits\u003dHallenfußball), Synset(id\u003ds104374, lexunits\u003dSpitzenfußball), Synset(id\u003ds133731, lexunits\u003dWeltfußball), Synset(id\u003ds145820, lexunits\u003dKombinationsfußball), Synset(id\u003ds21626, lexunits\u003dFrauenfußball, Damenfußball), Synset(id\u003ds21625, lexunits\u003dProfifußball), Synset(id\u003ds71210, lexunits\u003dJugendfußball), Synset(id\u003ds137940, lexunits\u003dBerufsfußball), Synset(id\u003ds146603, lexunits\u003dStraßenfußball), Synset(id\u003ds62081, lexunits\u003dVereinsfußball), Synset(id\u003ds124051, lexunits\u003dFreizeitfußball), Synset(id\u003ds133871, lexunits\u003dMädchenfußball), Synset(id\u003ds139802, lexunits\u003dTorwandschießen), Synset(id\u003ds84590, lexunits\u003dMännerfußball)}\n\nrelation : ConRel.has_hypernym\n{Synset(id\u003ds21606, lexunits\u003dBallspiel, Ballsport, Ballsportart)}\n\nrelation : ConRel.has_hyponym\n{Synset(id\u003ds69685, lexunits\u003dAmateurfußball), Synset(id\u003ds137475, lexunits\u003dKlubfußball), Synset(id\u003ds79925, lexunits\u003dHallenfußball), Synset(id\u003ds104374, lexunits\u003dSpitzenfußball), Synset(id\u003ds133731, lexunits\u003dWeltfußball), Synset(id\u003ds145820, lexunits\u003dKombinationsfußball), Synset(id\u003ds21626, lexunits\u003dFrauenfußball, Damenfußball), Synset(id\u003ds21625, lexunits\u003dProfifußball), Synset(id\u003ds71210, lexunits\u003dJugendfußball), Synset(id\u003ds137940, lexunits\u003dBerufsfußball), Synset(id\u003ds146603, lexunits\u003dStraßenfußball), Synset(id\u003ds62081, lexunits\u003dVereinsfußball), Synset(id\u003ds124051, lexunits\u003dFreizeitfußball), Synset(id\u003ds133871, lexunits\u003dMädchenfußball), Synset(id\u003ds139802, lexunits\u003dTorwandschießen), Synset(id\u003ds84590, lexunits\u003dMännerfußball)}\n\nrelation : ConRel.is_related_to\n{Synset(id\u003ds15474, lexunits\u003dAblöse), Synset(id\u003ds18513, lexunits\u003dLänderspieleinsatz), Synset(id\u003ds17566, lexunits\u003dAbseits, Abseitsposition, Abseitsstellung), Synset(id\u003ds75887, lexunits\u003dSchwalbe), Synset(id\u003ds100331, lexunits\u003dFußballpokal), Synset(id\u003ds10313, lexunits\u003dTor), Synset(id\u003ds20943, lexunits\u003dHandspiel)}\n\nrelation : ConRel.has_component_meronym\n{Synset(id\u003ds17560, lexunits\u003dElfmeter, Elfer, Elfmeterschießen), Synset(id\u003ds17565, lexunits\u003dFreistoß), Synset(id\u003ds17549, lexunits\u003dAnstoß, Kick-off)}\n"
          ],
          "output_type": "stream"
        }
      ],
      "source": "print(fussball_synset.direct_hypernyms)\nprint(fussball_synset.direct_hyponyms)\nfor relation, synsets in fussball_synset.relations.items():\n    print(\"\\nrelation : %s\" % relation)\n    print(synsets)\n    ",
      "metadata": {
        "pycharm": {
          "metadata": false,
          "name": "#%%\n",
          "is_executing": false
        }
      }
    },
    {
      "cell_type": "markdown",
      "source": "We can see that *Fußball* has exactly one hypernym and several hyponyms. It is also possible to list all hypernyms\nfrom *Fußball* to the top node (root node). The level where the *Fußball* synset is attached to the Graph is called depth and\ncan also be accessed. We can also check whether *Fußball* is the root or a leaf of the GermaNet graph (although of course\nwe already know that this is not case, as it has both, hypernyms and hyponyms.\n",
      "metadata": {
        "pycharm": {
          "metadata": false,
          "name": "#%% md\n"
        }
      }
    },
    {
      "cell_type": "code",
      "execution_count": 5,
      "outputs": [
        {
          "name": "stdout",
          "text": [
            "{Synset(id\u003ds21440, lexunits\u003dSport, Sportart, Disziplin, Sportdisziplin), Synset(id\u003ds18275, lexunits\u003dSportwettkampf), Synset(id\u003ds18227, lexunits\u003dSportveranstaltung, Sportereignis), Synset(id\u003ds13222, lexunits\u003dZustand), Synset(id\u003ds73180, lexunits\u003dKampf, Wettkampf), Synset(id\u003ds17614, lexunits\u003dVeranstaltung), Synset(id\u003ds47458, lexunits\u003dqualitative Beziehung), Synset(id\u003ds16557, lexunits\u003dGeschehen, Geschehnis), Synset(id\u003ds18348, lexunits\u003dSpiel, Match, Partie, Sportspiel), Synset(id\u003ds18413, lexunits\u003dHandlung, Tat, Aktivität, Tätigkeit), Synset(id\u003ds46926, lexunits\u003dBeziehung, Verhältnis, Relation), Synset(id\u003ds51001, lexunits\u003dGNROOT), Synset(id\u003ds16438, lexunits\u003dEreignis), Synset(id\u003ds20870, lexunits\u003dAuseinandersetzung, Konflikt), Synset(id\u003ds16437, lexunits\u003dSituation), Synset(id\u003ds21606, lexunits\u003dBallspiel, Ballsport, Ballsportart)}\nThe synset has a depth of 8 \n is it the root node? False  \n is it a leaf node? False\n"
          ],
          "output_type": "stream"
        }
      ],
      "source": "print(fussball_synset.all_hypernyms())\nprint(\"The synset has a depth of %d \\n is it the root node? %s  \\n is it a leaf node? %s\"\n      % (fussball_synset.min_depth(), str(fussball_synset.is_root()), str(fussball_synset.is_leaf()) ))",
      "metadata": {
        "pycharm": {
          "metadata": false,
          "name": "#%%\n",
          "is_executing": false
        }
      }
    },
    {
      "cell_type": "markdown",
      "source": "You can also use the API to compare a synset with another synset. These methods work only for two synsets that have the \nsame word category, for example for two nouns. Let\u0027s say you would like to know how *Fußball* and *Tennis* are related within \nGermaNet. You first need to extract the synset for *Tennis*. Then you can check whether *Tennis* and *Fußball* share any \nhypernyms and print them. Finally you can extract the shortest path between Fußball and Tennis, i.e. the minimal number of \nnodes you have to walk from *Fußball* to end up at the synset of *Tennis*. You can also extract the distance between *Fußball* and \n*Tennis* (in this case the path length). Synsets that are more similar will have a shorter distance than unrelated synsets.\n",
      "metadata": {
        "pycharm": {
          "metadata": false,
          "name": "#%% md\n"
        }
      }
    },
    {
      "cell_type": "code",
      "execution_count": 6,
      "outputs": [
        {
          "name": "stdout",
          "text": [
            "[Synset(id\u003ds21613, lexunits\u003dTennis, Tennisspiel, Tennissport)]\n{Synset(id\u003ds21440, lexunits\u003dSport, Sportart, Disziplin, Sportdisziplin), Synset(id\u003ds18275, lexunits\u003dSportwettkampf), Synset(id\u003ds18227, lexunits\u003dSportveranstaltung, Sportereignis), Synset(id\u003ds13222, lexunits\u003dZustand), Synset(id\u003ds17614, lexunits\u003dVeranstaltung), Synset(id\u003ds16437, lexunits\u003dSituation), Synset(id\u003ds47458, lexunits\u003dqualitative Beziehung), Synset(id\u003ds16557, lexunits\u003dGeschehen, Geschehnis), Synset(id\u003ds18348, lexunits\u003dSpiel, Match, Partie, Sportspiel), Synset(id\u003ds46926, lexunits\u003dBeziehung, Verhältnis, Relation), Synset(id\u003ds73180, lexunits\u003dKampf, Wettkampf), Synset(id\u003ds51001, lexunits\u003dGNROOT), Synset(id\u003ds16438, lexunits\u003dEreignis), Synset(id\u003ds20870, lexunits\u003dAuseinandersetzung, Konflikt), Synset(id\u003ds18413, lexunits\u003dHandlung, Tat, Aktivität, Tätigkeit), Synset(id\u003ds21606, lexunits\u003dBallspiel, Ballsport, Ballsportart)}\n[[Synset(id\u003ds21624, lexunits\u003dFußballspiel, Fußball, Fußballsport), Synset(id\u003ds21606, lexunits\u003dBallspiel, Ballsport, Ballsportart), Synset(id\u003ds21613, lexunits\u003dTennis, Tennisspiel, Tennissport)]]\nFußball and Tennis have a path distance of 2\n"
          ],
          "output_type": "stream"
        }
      ],
      "source": "tennis_synsets \u003d germanet.get_synsets_by_orthform(\"Tennis\")\nprint(tennis_synsets)\ntennis_synset \u003d tennis_synsets[0]\nprint(fussball_synset.common_hypernyms(tennis_synset))\nprint(fussball_synset.shortest_path(tennis_synset))\nprint(\"Fußball and Tennis have a path distance of %d\" % fussball_synset.shortest_path_distance(tennis_synset))\n",
      "metadata": {
        "pycharm": {
          "metadata": false,
          "name": "#%%\n",
          "is_executing": false
        }
      }
    },
    {
      "cell_type": "markdown",
      "source": "### Inspect Lexical Units\nEvery synset contains one ore several Lexical Units. They are always printed when you acess the String representation of\na synset. The list of Lexical Units (lexunit) can be accessed for any synset. Let\u0027s inspect the lexical units for Fußball:\nWe have the lexunit *Fußballspiel*, the lexunit *Fußball* and the lexunit *Fußballsport*.",
      "metadata": {
        "pycharm": {
          "metadata": false,
          "name": "#%% md\n"
        }
      }
    },
    {
      "cell_type": "code",
      "execution_count": 7,
      "outputs": [
        {
          "name": "stdout",
          "text": [
            "[Lexunit(id\u003dl29776, orthform\u003dFußballspiel, synset_id\u003ds21624), Lexunit(id\u003dl29777, orthform\u003dFußball, synset_id\u003ds21624), Lexunit(id\u003dl29778, orthform\u003dFußballsport, synset_id\u003ds21624)]\n"
          ],
          "output_type": "stream"
        }
      ],
      "source": "lexical_units_fussball \u003d fussball_synset.lexunits\nprint(lexical_units_fussball)\n",
      "metadata": {
        "pycharm": {
          "metadata": false,
          "name": "#%%\n",
          "is_executing": false
        }
      }
    },
    {
      "cell_type": "markdown",
      "source": "Every lexical unit has a number of orthographical forms. There are four different orthographical forms but not every \nlexical unit has an entry for all of them:\n* main orth. form: \n* orth. variation\n* old orth. form\n* old orth. variation\n\nWe can see that the lexunit for *Fußball* only has one orth form, but that one of its related synsets *Fußballklub* has the \northographical variation *Fußballkclub*.",
      "metadata": {
        "pycharm": {
          "metadata": false,
          "name": "#%% md\n"
        }
      }
    },
    {
      "cell_type": "code",
      "execution_count": 8,
      "outputs": [
        {
          "name": "stdout",
          "text": [
            "{\u0027Fußball\u0027}\n{\u0027Fußballklub\u0027, \u0027Fußballclub\u0027}\nFußballclub\n"
          ],
          "output_type": "stream"
        }
      ],
      "source": "fussball_unit \u003d germanet.get_lexunit_by_id(\"l29777\")\north_forms \u003d fussball_unit.get_all_orthforms()\nprint(orth_forms)\nfussballclub_unit \u003d germanet.get_lexunit_by_id(\"l32423\")\north_forms \u003d fussballclub_unit.get_all_orthforms()\nprint(orth_forms)\nprint(fussballclub_unit.orthvar)",
      "metadata": {
        "pycharm": {
          "metadata": false,
          "name": "#%%\n",
          "is_executing": false
        }
      }
    },
    {
      "cell_type": "markdown",
      "source": "*Fußball* is a compound, which are very frequent in the German language. GermaNet stores information about the \ncompound, for example that *Fuß* is the modifier and *ball* is the head.\n",
      "metadata": {
        "pycharm": {
          "metadata": false,
          "name": "#%% md\n"
        }
      }
    },
    {
      "cell_type": "code",
      "execution_count": 9,
      "outputs": [
        {
          "name": "stdout",
          "text": [
            "CompoundInfo( modifier \u003d Fuß, head \u003d Ball)\n"
          ],
          "output_type": "stream"
        }
      ],
      "source": "print(fussball_unit.compound_info)\n",
      "metadata": {
        "pycharm": {
          "metadata": false,
          "name": "#%%\n",
          "is_executing": false
        }
      }
    },
    {
      "cell_type": "markdown",
      "source": "Lexical units are related to other lexical units by different lexical relations. The most common and most general \nlexical relation is synonymy, but there are other relations annotated as well. For example, for some compounds there has been work\non annotating the relation between the compound and the modifier. In this example the compound *Fußball* has the manner \nfunctioning of *Fuß*. The relations can be unidirectional (e.g. the relation \"has manner of functioning\" goes from *Fußball*\nto *Fuß*, but not the other way around. The relation can also be bidirectional, e.g. *Fußball* and *Fußballspiel* are \nsynonyms of each other. If you are interested in finding out which unidirectional relations point towards *Fußball*, these\ncan be accessed via \"incoming_relations\":\n",
      "metadata": {
        "pycharm": {
          "metadata": false,
          "name": "#%% md\n"
        }
      }
    },
    {
      "cell_type": "code",
      "execution_count": 10,
      "outputs": [
        {
          "name": "stdout",
          "text": [
            "defaultdict(\u003cclass \u0027set\u0027\u003e, {\u003cLexRel.has_synonym: \u0027has_synonym\u0027\u003e: {Lexunit(id\u003dl29778, orthform\u003dFußballsport, synset_id\u003ds21624), Lexunit(id\u003dl29776, orthform\u003dFußballspiel, synset_id\u003ds21624)}, \u003cLexRel.has_manner_of_functioning: \u0027has_manner_of_functioning\u0027\u003e: {Lexunit(id\u003dl35740, orthform\u003dFuß, synset_id\u003ds26149)}})\ndefaultdict(\u003cclass \u0027set\u0027\u003e, {\u003cLexRel.has_pertainym: \u0027has_pertainym\u0027\u003e: {Lexunit(id\u003dl4226, orthform\u003dfußballerisch, synset_id\u003ds2869)}, \u003cLexRel.has_specialization: \u0027has_specialization\u0027\u003e: {Lexunit(id\u003dl53360, orthform\u003dFußballamateur, synset_id\u003ds37146)}, \u003cLexRel.has_active_usage: \u0027has_active_usage\u0027\u003e: {Lexunit(id\u003dl13796, orthform\u003dFußballstadion, synset_id\u003ds9891), Lexunit(id\u003dl10294, orthform\u003dFußballschuh, synset_id\u003ds7143)}, \u003cLexRel.has_topic: \u0027has_topic\u0027\u003e: {Lexunit(id\u003dl88379, orthform\u003dFußballschule, synset_id\u003ds63191)}})\n"
          ],
          "output_type": "stream"
        }
      ],
      "source": "print(fussball_unit.relations)\nprint(fussball_unit.incoming_relations)\n",
      "metadata": {
        "pycharm": {
          "metadata": false,
          "name": "#%%\n",
          "is_executing": false
        }
      }
    },
    {
      "cell_type": "markdown",
      "source": "Some lexical units have sense definitions, harvested from the German Wictionary. These can be accessed with the wiktionary_paraphrases field.",
      "metadata": {
        "pycharm": {
          "metadata": false,
          "name": "#%% md\n"
        }
      }
    },
    {
      "cell_type": "code",
      "execution_count": 11,
      "outputs": [
        {
          "name": "stdout",
          "text": [
            "[Wictionary(LexUnit ID\u003dl29777, definition\u003dSport, Freizeit, kein Plural: eine beliebte Mannschaftssportart, welche mit 22 Spielern und einem Ball gespielt wird)]\n"
          ],
          "output_type": "stream"
        }
      ],
      "source": "print(fussball_unit.wiktionary_paraphrases)",
      "metadata": {
        "pycharm": {
          "metadata": false,
          "name": "#%%\n",
          "is_executing": false
        }
      }
    },
    {
      "cell_type": "markdown",
      "source": "Some lexical units have also been linked to the English WordNet. The can be accessed with the ili_records field. ",
      "metadata": {
        "pycharm": {
          "metadata": false,
          "name": "#%% md\n"
        }
      }
    },
    {
      "cell_type": "code",
      "execution_count": 12,
      "outputs": [
        {
          "name": "stdout",
          "text": [
            "[IliRecord(LexUnit ID\u003dl29777, relation\u003dsynonym, english_equivalent\u003dassociation football)]\n"
          ],
          "output_type": "stream"
        }
      ],
      "source": "print(fussball_unit.ili_records)\n",
      "metadata": {
        "pycharm": {
          "metadata": false,
          "name": "#%%\n",
          "is_executing": false
        }
      }
    },
    {
      "cell_type": "markdown",
      "source": "Lexical units which are verbs provide information on language use by giving at least one example sentence.\nThey are also annotated with subcategorisation patterns / verb complementations (frames). It is possible to extract\nverbs with specific complements of interest, for example if you\u0027re interested in all verbs that allow accusative complements\nyou can extract them with specific methods, defined in the frames class. \n",
      "metadata": {
        "pycharm": {
          "metadata": false,
          "name": "#%% md\n"
        }
      }
    },
    {
      "cell_type": "code",
      "execution_count": 13,
      "outputs": [
        {
          "name": "stdout",
          "text": [
            "Lexunit(id\u003dl80272, orthform\u003dschießen, synset_id\u003ds56962)\n[\u0027Er hatte den Ball ins Tor geschossen.\u0027]\n[\u0027NN.AN.BD\u0027]\nThere are  11735 verbs that can take an accusative complement in GermaNet \n An example of such is: Lexunit(id\u003dl155511, orthform\u003dhinausschmuggeln, synset_id\u003ds117857) \n Another example is : Lexunit(id\u003dl156149, orthform\u003dabkämmen, synset_id\u003ds118408)\n"
          ],
          "output_type": "stream"
        }
      ],
      "source": "schiessen \u003d germanet.get_lexunit_by_id(\"l80272\")\nprint(schiessen)\nprint(schiessen.examples)\nprint(schiessen.frames)\nf \u003d Frames(germanet.frames2lexunits)\nall_verbs_with_accusative_complement \u003d f.extract_accusative_complemtent()\nprint(\"There are  %d verbs that can take an accusative complement in GermaNet \\n An example of such is: %s \\n Another example is : %s\"\n      % (len(all_verbs_with_accusative_complement), all_verbs_with_accusative_complement.pop(), all_verbs_with_accusative_complement.pop()))\n",
      "metadata": {
        "pycharm": {
          "metadata": false,
          "name": "#%%\n",
          "is_executing": false
        }
      }
    },
    {
      "cell_type": "markdown",
      "source": "## How to extract a large number of examples by applying a filter function\nIf you would like to extract several lexical units or synsets from GermaNet that fulfill a certain number of \nconditions you can create a filter configuration. A filter configuration allows you for example to search for words of specific\nWord Classes (e.g. you might be interested in extracting all abstract nouns) or you would like to extract all words that \ncontain a specific subword. To do a search you have to create a filter configuration object. You have to pass a search string\nas an argument. All other options have defaults but you can set them to adapt your search. \n",
      "metadata": {
        "pycharm": {
          "metadata": false,
          "name": "#%% md\n"
        }
      }
    },
    {
      "cell_type": "code",
      "execution_count": 14,
      "outputs": [
        {
          "name": "stdout",
          "text": [
            "filtered result\nSynset(id\u003ds60205, lexunits\u003derlegen, schießen)\nSynset(id\u003ds21555, lexunits\u003dSchießen, Schießsport, Sportschießen)\nSynset(id\u003ds59153, lexunits\u003dknipsen, schießen)\nSynset(id\u003ds56650, lexunits\u003dschießen)\nSynset(id\u003ds57998, lexunits\u003dstürmen, stürzen, schießen)\nSynset(id\u003ds123485, lexunits\u003dschießen)\nSynset(id\u003ds56664, lexunits\u003dschießen)\nSynset(id\u003ds56962, lexunits\u003dschießen)\n\nfiltered result\nSynset(id\u003ds56650, lexunits\u003dschießen) WordClass.Konkurrenz\nSynset(id\u003ds56664, lexunits\u003dschießen) WordClass.Konkurrenz\n\nfiltered result\nset()\n"
          ],
          "output_type": "stream"
        }
      ],
      "source": "# we can search for \"schuss\" but we don\u0027t want to care about upper or lowercasing and about different orthforms:\nfilterconfig \u003d Filterconfig(\"schießen\", ignore_case\u003dTrue)\nresult \u003d filterconfig.filter_synsets(germanet)\nprint(\"filtered result\")\nfor word in result:\n    print(word)\n# Let\u0027s say we are only interested in synsets of a specific semantic class:\nfilterconfig.word_classes \u003d [WordClass.Konkurrenz]\nresult \u003d filterconfig.filter_synsets(germanet)\nprint(\"\\nfiltered result\")\nfor word in result:\n    print(word, word.word_class)\n# if we now filter by word category and use only nouns, our result will be empty because there is not entry for \u0027schießen\u0027 as a noun:\nfilterconfig.word_categories \u003d [WordCategory.nomen]\nresult \u003d filterconfig.filter_synsets(germanet)\nprint(\"\\nfiltered result\")\nprint(result)",
      "metadata": {
        "pycharm": {
          "metadata": false,
          "name": "#%%\n",
          "is_executing": false
        }
      }
    },
    {
      "cell_type": "markdown",
      "source": "Besides using full words as search strings we can use regular expressions. This can be very useful if you are interested \nin words with certain character sequences. The next examples shows how to extract all words that end with \"kuchen\", all \nwords that contain a whitespace or hyphen (useful for example to extract multiword expressions) and how to extract verbs that contain\n\u0027ff\u0027 or \u0027ss\u0027:",
      "metadata": {
        "pycharm": {
          "metadata": false,
          "name": "#%% md\n"
        }
      }
    },
    {
      "cell_type": "code",
      "execution_count": 15,
      "outputs": [
        {
          "name": "stdout",
          "text": [
            "Found  54 words that end with \u0027kuchen\u0027 in GermaNet \n An example of such is: Lexunit(id\u003dl57640, orthform\u003dKäsekuchen, synset_id\u003ds39240) \n Another example is : Lexunit(id\u003dl117643, orthform\u003dRhabarberkuchen, synset_id\u003ds87414)\n\nFound  5419 multiword expressions with whitespace or hypen in GermaNet \n An example of such is: Lexunit(id\u003dl69601, orthform\u003dHIV-Impfstoff, synset_id\u003ds48750) \n Another example is : Lexunit(id\u003dl112531, orthform\u003dBoogie-Woogie, synset_id\u003ds83442)\n",
            "\nFound  974 verbs with double s or double f in GermaNet \n An example of such is: Lexunit(id\u003dl155511, orthform\u003dhinausschmuggeln, synset_id\u003ds117857) \n Another example is : Lexunit(id\u003dl161663, orthform\u003dwiederveröffentlichen, synset_id\u003ds122927)\n"
          ],
          "output_type": "stream"
        }
      ],
      "source": "# extract all words that end with \u0027kuchen\u0027\nfilterconfig \u003d Filterconfig(\u0027.*kuchen\u0027, regex\u003dTrue)\nfilterconfig.word_categories \u003d [WordCategory.nomen]\nresult \u003d filterconfig.filter_lexunits(germanet)\nprint(\"Found  %d words that end with \u0027kuchen\u0027 in GermaNet \\n An example of such is: %s \\n Another example is : %s\"\n      % (len(result), result.pop(), result.pop()))\n\n# extract all words that contain a white space or a hyphen\nfilterconfig \u003d Filterconfig(\u0027.+(\\s|-).+\u0027, regex\u003dTrue)\nfilterconfig.word_categories \u003d [WordCategory.nomen]\nresult \u003d filterconfig.filter_lexunits(germanet)\nprint(\"\\nFound  %d multiword expressions with whitespace or hypen in GermaNet \\n An example of such is: %s \\n Another example is : %s\"\n      % (len(result), result.pop(), result.pop()))\n\n# extract all verbs that contain exactly two \u0027ss\u0027 or two \u0027ff\u0027\nfilterconfig \u003d Filterconfig(\u0027.+(f{2,}|s{2,}).+\u0027, regex\u003dTrue)\nfilterconfig.word_categories \u003d [WordCategory.verben]\nresult \u003d filterconfig.filter_lexunits(germanet)\nprint(\"\\nFound  %d verbs with double s or double f in GermaNet \\n An example of such is: %s \\n Another example is : %s\"\n      % (len(result), result.pop(), result.pop()))\n",
      "metadata": {
        "pycharm": {
          "metadata": false,
          "name": "#%%\n",
          "is_executing": false
        }
      }
    },
    {
      "cell_type": "markdown",
      "source": "## How to use semantic similarity measures\nGiven the existence of a structured ontology, semantic relatedness measures have been developed in order to retrieve information\nabout the the relatedness of concepts within a graph. Two different types of semantic similarity measures are provided by this API:\n- path-based measures\n- information-content-based measures.\n\nPath-based measures compute the semantic relatedness between two concepts based on the shortest path between two synsets. \nDifferent measures weigh or normalize the path-length in different ways.\nInformation-content-based measures use word frequencies and the lowest common subsumer to compute the relatedness.\nThe frequencies are used to compute the information content, which graduates concepts from specific to general.\nIf a very specific synset is compared to a very general one, the relatedness will be low.\n\nThe following example shows, how to use the PathBasedRelatedness to check whether Trompete (trumpet) is more related to \nPosaune (trombone) than to Flöte (flute) and how to disambiguate Flügel (wing, blade, grand) in the context of Klavier (piano)",
      "metadata": {
        "pycharm": {
          "metadata": false
        }
      }
    },
    {
      "cell_type": "code",
      "execution_count": 16,
      "outputs": [
        {
          "name": "stdout",
          "text": [
            "Based on the simple path measure, is Trompete more similar to Posaune, than to Flöte? True\nThe most similar synset out of all synsets corresponding to the word \u0027Flügel\u0027 is : Synset(id\u003ds11625, lexunits\u003dFlügel)\n[Wictionary(LexUnit ID\u003dl16087, definition\u003dMusik, Musikinstrumentenbau: ein großes Klavier, besonders für Konzerte, dessen Deckel meist geöffnet ist, wenn man darauf spielt)]\n"
          ],
          "output_type": "stream"
        }
      ],
      "source": "# first, construct a path-based similarity object\nfrom germanetpy.path_based_relatedness_measures import PathBasedRelatedness\njohannis_wurm \u003d germanet.get_synset_by_id(\"s49774\")\nleber_trans \u003d germanet.get_synset_by_id(\"s83979\")\nrelatedness_calculator \u003d PathBasedRelatedness(germanet\u003dgermanet, category\u003dWordCategory.nomen, max_len\u003d35,\n                                             max_depth\u003d20, synset_pair\u003d(johannis_wurm, leber_trans))\ntrompete \u003d germanet.get_synsets_by_orthform(\"Trompete\").pop()\nflöte \u003d germanet.get_synsets_by_orthform(\"Flöte\").pop()\nposaune \u003d germanet.get_synsets_by_orthform(\"Posaune\").pop()\nKlavier \u003d germanet.get_synsets_by_orthform(\"Klavier\").pop()\nFlügel_synsets \u003d germanet.get_synsets_by_orthform(\"Flügel\")\ntrompete_posaune \u003d relatedness_calculator.simple_path(trompete, posaune)\ntrompete_flöte \u003d relatedness_calculator.simple_path(trompete, flöte)\n\nprint(\"Based on the simple path measure, is Trompete more similar to Posaune, than to Flöte? %s\" % str(trompete_posaune \u003e trompete_flöte))\nhighest_sim \u003d 0.0\nmost_similar_synset \u003d None\nfor synset in Flügel_synsets:\n    if synset.word_category \u003d\u003d WordCategory.nomen:\n        sim \u003d relatedness_calculator.leacock_chodorow(synset, Klavier)\n        if sim \u003e highest_sim:\n            highest_sim \u003d sim\n            most_similar_synset \u003d synset\nprint(\"The most similar synset out of all synsets corresponding to the word \u0027Flügel\u0027 is : %s\" %str(most_similar_synset))\nprint(most_similar_synset.lexunits[0].wiktionary_paraphrases)\n",
      "metadata": {
        "pycharm": {
          "metadata": false,
          "name": "#%%\n",
          "is_executing": false
        }
      }
    },
    {
      "cell_type": "markdown",
      "source": "For a more convenient search through the ontology and the semantic relatedness computation, you can use the GermaNet web application \"Rover\":\nhttps://weblicht.sfs.uni-tuebingen.de/rover/",
      "metadata": {
        "pycharm": {
          "metadata": false
        }
      }
    }
  ],
  "metadata": {
    "language_info": {
      "codemirror_mode": {
        "name": "ipython",
        "version": 2
      },
      "file_extension": ".py",
      "mimetype": "text/x-python",
      "name": "python",
      "nbconvert_exporter": "python",
      "pygments_lexer": "ipython2",
      "version": "2.7.6"
    },
    "kernelspec": {
      "name": "pycharm-4f820cd9",
      "language": "python",
      "display_name": "PyCharm (germaNetPy)"
    },
    "stem_cell": {
      "cell_type": "raw",
      "source": "",
      "metadata": {
        "pycharm": {
          "metadata": false
        }
      }
    }
  },
  "nbformat": 4,
  "nbformat_minor": 0
}